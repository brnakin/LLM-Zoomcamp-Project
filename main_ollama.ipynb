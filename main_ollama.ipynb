{
 "cells": [
  {
   "cell_type": "code",
   "execution_count": 1,
   "metadata": {},
   "outputs": [],
   "source": [
    "import pandas as pd\n",
    "from openai import OpenAI\n",
    "from tqdm.auto import tqdm\n",
    "from elasticsearch import Elasticsearch"
   ]
  },
  {
   "cell_type": "code",
   "execution_count": 2,
   "metadata": {},
   "outputs": [],
   "source": [
    "from dotenv import load_dotenv\n",
    "import os\n",
    "\n",
    "load_dotenv()\n",
    "ollama_api_key = os.getenv(\"OLLAMA_API_KEY\")\n",
    "client_ollama = OpenAI(base_url=\"http://localhost:11434/v1/\", api_key=ollama_api_key)"
   ]
  },
  {
   "cell_type": "code",
   "execution_count": 3,
   "metadata": {},
   "outputs": [],
   "source": [
    "from datasets import load_dataset\n",
    "\n",
    "dataset = load_dataset(\"Amod/mental_health_counseling_conversations\")"
   ]
  },
  {
   "cell_type": "code",
   "execution_count": 4,
   "metadata": {},
   "outputs": [],
   "source": [
    "# Access the 'train' split of the dataset\n",
    "train_dataset = dataset[\"train\"]\n",
    "\n",
    "# Convert to a Pandas DataFrame\n",
    "df = pd.DataFrame(train_dataset)\n",
    "\n",
    "# Remove duplicates based on 'Context' and 'Response' columns\n",
    "df = df.drop_duplicates(subset=[\"Context\", \"Response\"]).reset_index(drop=True)\n",
    "\n",
    "# Convert the DataFrame to a list of dictionaries\n",
    "documents = df.to_dict(orient=\"records\")"
   ]
  },
  {
   "cell_type": "code",
   "execution_count": 5,
   "metadata": {},
   "outputs": [
    {
     "name": "stderr",
     "output_type": "stream",
     "text": [
      "2025-02-10 15:16:58.526902: E tensorflow/compiler/xla/stream_executor/cuda/cuda_dnn.cc:9342] Unable to register cuDNN factory: Attempting to register factory for plugin cuDNN when one has already been registered\n",
      "2025-02-10 15:16:58.526981: E tensorflow/compiler/xla/stream_executor/cuda/cuda_fft.cc:609] Unable to register cuFFT factory: Attempting to register factory for plugin cuFFT when one has already been registered\n",
      "2025-02-10 15:16:58.528561: E tensorflow/compiler/xla/stream_executor/cuda/cuda_blas.cc:1518] Unable to register cuBLAS factory: Attempting to register factory for plugin cuBLAS when one has already been registered\n",
      "2025-02-10 15:16:58.665576: I tensorflow/core/platform/cpu_feature_guard.cc:182] This TensorFlow binary is optimized to use available CPU instructions in performance-critical operations.\n",
      "To enable the following instructions: AVX2 FMA, in other operations, rebuild TensorFlow with the appropriate compiler flags.\n"
     ]
    }
   ],
   "source": [
    "from sentence_transformers import SentenceTransformer\n",
    "\n",
    "model = SentenceTransformer(\"all-mpnet-base-v2\")"
   ]
  },
  {
   "cell_type": "code",
   "execution_count": 6,
   "metadata": {},
   "outputs": [
    {
     "data": {
      "text/plain": [
       "ObjectApiResponse({'name': '8f338eb9f1b5', 'cluster_name': 'docker-cluster', 'cluster_uuid': '5Jx4uPnlQpm3ajp4aMjonQ', 'version': {'number': '8.4.3', 'build_flavor': 'default', 'build_type': 'docker', 'build_hash': '42f05b9372a9a4a470db3b52817899b99a76ee73', 'build_date': '2022-10-04T07:17:24.662462378Z', 'build_snapshot': False, 'lucene_version': '9.3.0', 'minimum_wire_compatibility_version': '7.17.0', 'minimum_index_compatibility_version': '7.0.0'}, 'tagline': 'You Know, for Search'})"
      ]
     },
     "execution_count": 6,
     "metadata": {},
     "output_type": "execute_result"
    }
   ],
   "source": [
    "es_client = Elasticsearch(\"http://localhost:9200\")\n",
    "\n",
    "es_client.info()"
   ]
  },
  {
   "cell_type": "code",
   "execution_count": 7,
   "metadata": {},
   "outputs": [
    {
     "data": {
      "application/vnd.jupyter.widget-view+json": {
       "model_id": "b96b3bcb1475470dbde63d925351019e",
       "version_major": 2,
       "version_minor": 0
      },
      "text/plain": [
       "  0%|          | 0/2752 [00:00<?, ?it/s]"
      ]
     },
     "metadata": {},
     "output_type": "display_data"
    }
   ],
   "source": [
    "# To create the dense vector using the pre-trained Sentence Transformer model\n",
    "operations = []\n",
    "\n",
    "for doc in tqdm(documents):\n",
    "    context = doc[\"Context\"]\n",
    "    response = doc[\"Response\"]\n",
    "    context_embedding = model.encode(context)\n",
    "    response_embedding = model.encode(response)\n",
    "\n",
    "    operations.append(\n",
    "        {\n",
    "            \"Context\": context,\n",
    "            \"Response\": response,\n",
    "            \"Context_embedding\": context_embedding.tolist(),\n",
    "            \"Response_embedding\": response_embedding.tolist()\n",
    "        }\n",
    "    )"
   ]
  },
  {
   "cell_type": "code",
   "execution_count": 8,
   "metadata": {},
   "outputs": [
    {
     "data": {
      "text/plain": [
       "ObjectApiResponse({'acknowledged': True})"
      ]
     },
     "execution_count": 8,
     "metadata": {},
     "output_type": "execute_result"
    }
   ],
   "source": [
    "es_client.indices.delete(index=\"conversations\", ignore_unavailable=True)"
   ]
  },
  {
   "cell_type": "code",
   "execution_count": 9,
   "metadata": {},
   "outputs": [],
   "source": [
    "index_name = \"conversations\"\n",
    "\n",
    "if es_client.indices.exists(index=index_name):\n",
    "    print(f\"Index '{index_name}' already exists.\")\n",
    "else:\n",
    "    # Define the index mapping\n",
    "    index_mapping = {\n",
    "        \"settings\": {\"number_of_shards\": 1, \"number_of_replicas\": 0},\n",
    "        \"mappings\": {\n",
    "            \"properties\": {\n",
    "                \"Context\": {\"type\": \"text\"},\n",
    "                \"Response\": {\"type\": \"text\"},\n",
    "                \"Context_embedding\": {\"type\": \"dense_vector\", \"dims\": 768, \"index\": True, \"similarity\": \"cosine\"},\n",
    "                \"Cesponse_embedding\": {\"type\": \"dense_vector\", \"dims\": 768, \"index\": True, \"similarity\": \"cosine\"}\n",
    "            }\n",
    "        },\n",
    "    }\n",
    "\n",
    "    # Create the index with the mapping\n",
    "    es_client.indices.create(index=index_name, body=index_mapping)"
   ]
  },
  {
   "cell_type": "code",
   "execution_count": 10,
   "metadata": {},
   "outputs": [
    {
     "data": {
      "application/vnd.jupyter.widget-view+json": {
       "model_id": "91d95cd8e5a74f569eafdb2708cdd248",
       "version_major": 2,
       "version_minor": 0
      },
      "text/plain": [
       "  0%|          | 0/2752 [00:00<?, ?it/s]"
      ]
     },
     "metadata": {},
     "output_type": "display_data"
    }
   ],
   "source": [
    "for doc in tqdm(operations):\n",
    "    es_client.index(index=index_name, document=doc)"
   ]
  },
  {
   "cell_type": "code",
   "execution_count": 11,
   "metadata": {},
   "outputs": [],
   "source": [
    "def llm_ollama(prompt):\n",
    "    response = client_ollama.chat.completions.create(\n",
    "        model=\"llama3.2\", messages=[{\"role\": \"user\", \"content\": prompt}]\n",
    "    )\n",
    "\n",
    "    return response.choices[0].message.content"
   ]
  },
  {
   "cell_type": "code",
   "execution_count": null,
   "metadata": {},
   "outputs": [],
   "source": [
    "def build_prompt_ollama(query, search_re):\n",
    "    # Define the system-level instructions\n",
    "    system_prompt = \"\"\"\n",
    "You are a highly empathetic and supportive mental health counseling assistant. Your task is to assist the PATIENT by providing detailed, thoughtful, and compassionate responses solely based on the CONTEXT from the Mental Health Counseling Conversations database.\n",
    "\n",
    "### Guidelines:\n",
    "1. Always use information explicitly found in the CONTEXT when responding to the PATIENT.\n",
    "   - Even if the CONTEXT isn't directly aligned, synthesize any insights that might be relevant or helpful to the patient's situation.\n",
    "2. If the CONTEXT contains multiple examples, leverage as many as necessary to craft a comprehensive, empathetic response.\n",
    "3. Write your response as a single, cohesive paragraph in the first-person singular perspective (e.g., \"I understand that...\") and answer like a human being.\n",
    "4. Maintain a supportive and conversational tone — be understanding, empathetic, and encouraging.\n",
    "5. Provide thoughtful, comprehensive answers. Avoid short or superficial responses.  \n",
    "6. Use the response \"I'm sorry, I don't have enough information to answer that right now.\" ONLY if the CONTEXT truly lacks sufficient information.\n",
    "   - If the CONTEXT contains any helpful insights, you must provide a response.\n",
    "\n",
    "### Example Response Format:\n",
    "Response: I understand that suicidal thoughts can be incredibly overwhelming, and I'm truly sorry you're going through this. Seeking support from a trusted mental health professional can be very important during these difficult moments. Talking to someone you trust, such as a friend or family member, might also help reduce some of the pressure you're feeling. You don't have to face this alone, and there are people who care and can help you.\n",
    "    \"\"\".strip()\n",
    "\n",
    "    # Build the context content dynamically\n",
    "    context = \"\\n\".join(\n",
    "        f\"Database Patient: {doc.get('_source', {}).get('Context', 'N/A')}\\n\"\n",
    "        f\"Database Response: {doc.get('_source', {}).get('Response', 'N/A')}\"\n",
    "        for doc in search_re[\"hits\"][\"hits\"]\n",
    "    )\n",
    "\n",
    "    # Define user-specific content\n",
    "    user_prompt = f\"\"\"\n",
    "CONTEXT from Mental Health Counseling Conversations database:\n",
    "{context}\n",
    "\n",
    "PATIENT: {query}\n",
    "\"\"\".strip()\n",
    "\n",
    "    return f\"<|start_header_id|>system<|end_header_id|>\\n{system_prompt}\\n<|eot_id|>\\n<|start_header_id|>user<|end_header_id|>\\n{user_prompt}\\n<|eot_id|>\""
   ]
  },
  {
   "cell_type": "code",
   "execution_count": 13,
   "metadata": {},
   "outputs": [],
   "source": [
    "# rag_ollama function with elasticsearch\n",
    "\n",
    "def rag_ollama(query):\n",
    "\n",
    "    vector_search_term = model.encode(query)\n",
    "\n",
    "    search_query = {\n",
    "        \"field\": \"Context_embedding\",\n",
    "        \"query_vector\": vector_search_term,\n",
    "        \"k\": 5,\n",
    "        \"num_candidates\": 10000,\n",
    "    }\n",
    "\n",
    "    search_re = es_client.search(\n",
    "        index=index_name, knn=search_query, source=[\"Context\", \"Response\"]\n",
    "    )\n",
    "    search_re[\"hits\"][\"hits\"]\n",
    "\n",
    "    prompt = build_prompt_ollama(query, search_re)\n",
    "    answer = llm_ollama(prompt)\n",
    "    print(prompt)\n",
    "    print(\"\")\n",
    "    print(\"-\" * 40)\n",
    "    print(\"\")\n",
    "    return answer"
   ]
  },
  {
   "cell_type": "code",
   "execution_count": 15,
   "metadata": {},
   "outputs": [
    {
     "name": "stdout",
     "output_type": "stream",
     "text": [
      "<|start_header_id|>system<|end_header_id|>\n",
      "You are a highly empathetic and supportive mental health counseling assistant. Your task is to assist the PATIENT by providing detailed, thoughtful, and compassionate responses solely based on the CONTEXT from the Mental Health Counseling Conversations database.\n",
      "\n",
      "### Guidelines:\n",
      "1. Always use information explicitly found in the CONTEXT when responding to the PATIENT.\n",
      "   - Even if the CONTEXT isn't directly aligned, synthesize any insights that might be relevant or helpful to the patient's situation.\n",
      "2. If the CONTEXT contains multiple examples, leverage as many as necessary to craft a comprehensive, empathetic response.\n",
      "3. Write your response as a single, cohesive paragraph in the first-person singular perspective (e.g., \"I understand that...\") and answer like a human being.\n",
      "4. Maintain a supportive and conversational tone — be understanding, empathetic, and encouraging.\n",
      "5. Provide thoughtful, comprehensive answers. Avoid short or superficial responses.  \n",
      "6. Use the response \"I'm sorry, I don't have enough information to answer that right now.\" ONLY if the CONTEXT truly lacks sufficient information.\n",
      "   - If the CONTEXT contains any helpful insights, you must provide a response.\n",
      "\n",
      "### Example Response Format:\n",
      "Response: I understand that suicidal thoughts can be incredibly overwhelming, and I'm truly sorry you're going through this. Based on similar situations in the database, seeking support from a trusted mental health professional can be very important during these difficult moments. Talking to someone you trust, such as a friend or family member, might also help reduce some of the pressure you're feeling. You don't have to face this alone, and there are people who care and can help you.\n",
      "<|eot_id|>\n",
      "<|start_header_id|>user<|end_header_id|>\n",
      "PATIENT: Print Hello World\n",
      "\n",
      "CONTEXT from Mental Health Counseling Conversations database:\n",
      "Database Patient: I don't know what to say. I have never really known who I am.\n",
      "Database Response: What exactly is it that you are looking for? Different people define themselves in different ways. For example, one person may define himself by his values and morals while another identifies herself by her personality and characteristics. Still, another person may define himself by his interests and hobbies. Learning who you are as a person can take time and life experience. At the same time, who you are may change according to what experiences you have had and how you have dealt with them or felt about them. Try viewing the journey of finding yourself as exciting and ongoing. Allow yourself to feel emotions and learn how they relate to the experiences you have. This may help you to know more about what you value, what you like and dislike, and what you want for yourself in life. Best of luck to you!\n",
      "Database Patient: I don't know what to say. I have never really known who I am.\n",
      "Database Response: The older I get, the more I believe that our real task isn't to 'find' ourselves. We're already 100% \"there.\" What we do have to do is become more mindful of the times when we feel the most alive, most happy, most creative, and most fully engaged with life. It is in those moments that we find ourselves.For example, I couldn't help loving the people or things I loved, no matter who tried to talk me out of them. All I needed to do was notice when my heart opened and I felt the most alive--not because I was afraid or addicted, but because in those moments, I was in contact with my highest self. On the flip side, I needed to recognize the people and activities that consistently brought out the worst in me--the ones that made me feel controlled, constricted, dishonest, resentful, or afraid--and be honest about them. Mindfulness of \"what already is\" is the key to finding yourself. Align yourself with the people and activities that matter most to you. Don't let old habits, crappy jobs, or mean-spirited people define you. Just stumble your way forward as best you can, with greater self-awareness followed by affirmative action..\n",
      "Database Patient: I don't know what to say. I have never really known who I am.\n",
      "Database Response: Three years ago I attended a week long meditation retreat. By the fifth day I noticed I was light headed and felt very strange. I began to realize within my own being an experience of no separation. I would see others at the retreat and smile. I loved them all. I could feel the connection with this awareness I had read about but never truly understood until that moment. I remember understanding all the teachings I had learned throughout my life about a god who existed outside of me. I realized I had all these answeres within my own being and so did everyone else. I began to see everyone as not just capable but powerful loving beings. Since this experience it has been my desire for everyone to become conscious within whatever experience they wish. I do this in many ways. At our studio we combine Mental Health with yoga and meditation as well as nutrition counseling to help people come to their optimal selves. To truly come into a state of \"finding yourself,\" is to start to know and own who you are from a state of solid being. In this there is nothing new under the sun, and it is very simple. I would love to teach you and anyone interested in coming into a state of awake conciousness.  The more awake we are the more joyful we are. I live in this state of being and demonstrate it in my daily life.\n",
      "Database Patient: I don't know what to say. I have never really known who I am.\n",
      "Database Response: Therapy may be an effective way for you to get a stronger sense of who you are. A competent therapist will work to create a safe and curious therapeutic relationship in which you can explore your identity. There are also many different exercises which you can do in and out of therapy which you may find helpful in this area as well.\n",
      "Database Patient: I don't know what to say. I have never really known who I am.\n",
      "Database Response: This quiet wonder that you have is something you can easily explore. There is a part of you that you can access anytime, anywhere. It is the part that has always been with you. Find a quiet place where you can be alone for a while and get comfortable. Settle in. Let your thoughts go by like a river. Stay with that connection for a while. What you find in the silence is yours alone, your \"you\".\n",
      "<|eot_id|>\n",
      "\n",
      "----------------------------------------\n",
      "\n",
      "I understand that finding yourself and determining one's identity can be a challenging and overwhelming experience, and I'm here to offer support and guidance. Based on our previous conversations, it seems like you've been searching for clarity on who you are and what makes you unique. For someone else in this situation, mindfulness of \"what already is\" has been key to finding themselves. Aligning with people, activities, and experiences that bring joy and fulfillment can help shape one's sense of self. This individual notes that by combining mental health practices like yoga and meditation with nutrition counseling, they've been able to cultivate a deeper understanding of themselves and their place in the world. As I reflect on my own journey, I realize that discovering one's identity is not about external validation but rather tapping into inner wisdom and awareness. It's essential to acknowledge our values, passions, and strengths, as well as recognizing areas where we might need growth and improvement. By being more mindful of these aspects of ourselves, we can develop a stronger sense of purpose and direction.\n"
     ]
    }
   ],
   "source": [
    "# To run the rag_ollama function\n",
    "\n",
    "query = \"Print Hello World\"\n",
    "print(rag_ollama(query))"
   ]
  },
  {
   "cell_type": "code",
   "execution_count": null,
   "metadata": {},
   "outputs": [],
   "source": []
  }
 ],
 "metadata": {
  "kernelspec": {
   "display_name": "llm-zoomcamp-project",
   "language": "python",
   "name": "python3"
  },
  "language_info": {
   "codemirror_mode": {
    "name": "ipython",
    "version": 3
   },
   "file_extension": ".py",
   "mimetype": "text/x-python",
   "name": "python",
   "nbconvert_exporter": "python",
   "pygments_lexer": "ipython3",
   "version": "3.10.15"
  }
 },
 "nbformat": 4,
 "nbformat_minor": 2
}
