{
 "cells": [
  {
   "cell_type": "code",
   "execution_count": 1,
   "metadata": {},
   "outputs": [],
   "source": [
    "import pandas as pd\n",
    "import re\n",
    "from openai import OpenAI\n",
    "from tqdm.auto import tqdm\n",
    "from elasticsearch import Elasticsearch"
   ]
  },
  {
   "cell_type": "code",
   "execution_count": 2,
   "metadata": {},
   "outputs": [],
   "source": [
    "from dotenv import load_dotenv\n",
    "import os\n",
    "\n",
    "load_dotenv()\n",
    "ollama_api_key = os.getenv(\"OLLAMA_API_KEY\")"
   ]
  },
  {
   "cell_type": "code",
   "execution_count": 3,
   "metadata": {},
   "outputs": [],
   "source": [
    "client_ollama = OpenAI(base_url=\"http://localhost:11434/v1/\", api_key=ollama_api_key)"
   ]
  },
  {
   "cell_type": "code",
   "execution_count": 4,
   "metadata": {},
   "outputs": [],
   "source": [
    "from datasets import load_dataset\n",
    "\n",
    "dataset = load_dataset(\"Amod/mental_health_counseling_conversations\")"
   ]
  },
  {
   "cell_type": "code",
   "execution_count": 5,
   "metadata": {},
   "outputs": [],
   "source": [
    "# Access the 'train' split of the dataset\n",
    "train_dataset = dataset[\"train\"]\n",
    "\n",
    "# Convert to a Pandas DataFrame\n",
    "df = pd.DataFrame(train_dataset)\n",
    "\n",
    "\n",
    "# Define a cleaning function to apply to the context and response columns\n",
    "def clean_text(text):\n",
    "    # Convert text to lowercase\n",
    "    text = text.lower()\n",
    "    # Remove newline characters, non-breaking spaces, and extra spaces\n",
    "    text = text.replace(\"\\n\", \"\").replace(\"\\xa0\", \"\")\n",
    "    # Replace multiple spaces between sentences with a single space\n",
    "    text = re.sub(r\"\\s+\", \" \", text)\n",
    "    # Remove any special characters except comma, dot, parentheses, and space\n",
    "    text = re.sub(r\"[^a-z0-9.,() ]+\", \"\", text)\n",
    "    # Strip leading/trailing spaces\n",
    "    text = text.strip()\n",
    "\n",
    "    return text\n",
    "\n",
    "\n",
    "# Apply the cleaning function to both the 'Context' and 'Response' columns\n",
    "df[\"Context\"] = df[\"Context\"].apply(clean_text)\n",
    "df[\"Response\"] = df[\"Response\"].apply(clean_text)\n",
    "\n",
    "# Remove duplicates based on 'Context' and 'Response' columns\n",
    "df = df.drop_duplicates(subset=[\"Context\", \"Response\"]).reset_index(drop=True)\n",
    "\n",
    "# Convert the DataFrame to a list of dictionaries\n",
    "documents = df.to_dict(orient=\"records\")"
   ]
  },
  {
   "cell_type": "code",
   "execution_count": 6,
   "metadata": {},
   "outputs": [
    {
     "data": {
      "text/plain": [
       "ObjectApiResponse({'name': '4667e37c0da8', 'cluster_name': 'docker-cluster', 'cluster_uuid': 'hNUOD6s_TvWzBpt-q9kmog', 'version': {'number': '8.4.3', 'build_flavor': 'default', 'build_type': 'docker', 'build_hash': '42f05b9372a9a4a470db3b52817899b99a76ee73', 'build_date': '2022-10-04T07:17:24.662462378Z', 'build_snapshot': False, 'lucene_version': '9.3.0', 'minimum_wire_compatibility_version': '7.17.0', 'minimum_index_compatibility_version': '7.0.0'}, 'tagline': 'You Know, for Search'})"
      ]
     },
     "execution_count": 6,
     "metadata": {},
     "output_type": "execute_result"
    }
   ],
   "source": [
    "es_client = Elasticsearch(\"http://localhost:9200\")\n",
    "\n",
    "es_client.info()"
   ]
  },
  {
   "cell_type": "code",
   "execution_count": 7,
   "metadata": {},
   "outputs": [],
   "source": [
    "index_name = \"conversations\""
   ]
  },
  {
   "cell_type": "code",
   "execution_count": 8,
   "metadata": {},
   "outputs": [
    {
     "data": {
      "text/plain": [
       "ObjectApiResponse({'conversations2': {'aliases': {}}, 'conversations': {'aliases': {}}})"
      ]
     },
     "execution_count": 8,
     "metadata": {},
     "output_type": "execute_result"
    }
   ],
   "source": [
    "# To list all the indices\n",
    "\n",
    "es_client.indices.get_alias()"
   ]
  },
  {
   "cell_type": "code",
   "execution_count": 9,
   "metadata": {},
   "outputs": [],
   "source": [
    "resp = es_client.indices.delete(index=index_name)"
   ]
  },
  {
   "cell_type": "code",
   "execution_count": 10,
   "metadata": {},
   "outputs": [
    {
     "data": {
      "text/plain": [
       "ObjectApiResponse({'acknowledged': True, 'shards_acknowledged': True, 'index': 'conversations'})"
      ]
     },
     "execution_count": 10,
     "metadata": {},
     "output_type": "execute_result"
    }
   ],
   "source": [
    "index_settings = {\n",
    "    \"settings\": {\"number_of_shards\": 1, \"number_of_replicas\": 0},\n",
    "    \"mappings\": {\n",
    "        \"properties\": {\n",
    "            \"Context\": {\"type\": \"text\"},\n",
    "            \"Response\": {\"type\": \"text\"},\n",
    "        }\n",
    "    },\n",
    "}\n",
    "\n",
    "es_client.indices.create(index=index_name, body=index_settings)"
   ]
  },
  {
   "cell_type": "code",
   "execution_count": 11,
   "metadata": {},
   "outputs": [
    {
     "data": {
      "text/plain": [
       "ObjectApiResponse({'conversations': {'aliases': {}, 'mappings': {'properties': {'Context': {'type': 'text'}, 'Response': {'type': 'text'}}}, 'settings': {'index': {'routing': {'allocation': {'include': {'_tier_preference': 'data_content'}}}, 'number_of_shards': '1', 'provided_name': 'conversations', 'creation_date': '1739034636968', 'number_of_replicas': '0', 'uuid': 'kgChYQshQRuMhuLo-64Swg', 'version': {'created': '8040399'}}}}})"
      ]
     },
     "execution_count": 11,
     "metadata": {},
     "output_type": "execute_result"
    }
   ],
   "source": [
    "es_client.indices.get(index=index_name)"
   ]
  },
  {
   "cell_type": "code",
   "execution_count": 12,
   "metadata": {},
   "outputs": [
    {
     "data": {
      "application/vnd.jupyter.widget-view+json": {
       "model_id": "b66b3883fd834046bdc040bed5b404bf",
       "version_major": 2,
       "version_minor": 0
      },
      "text/plain": [
       "  0%|          | 0/2076 [00:00<?, ?it/s]"
      ]
     },
     "metadata": {},
     "output_type": "display_data"
    }
   ],
   "source": [
    "for doc in tqdm(documents):\n",
    "    es_client.index(index=index_name, document=doc)"
   ]
  },
  {
   "cell_type": "code",
   "execution_count": 13,
   "metadata": {},
   "outputs": [],
   "source": [
    "def llm_ollama(prompt):\n",
    "    response = client_ollama.chat.completions.create(\n",
    "        model=\"llama3.2\", messages=[{\"role\": \"user\", \"content\": prompt}]\n",
    "    )\n",
    "\n",
    "    return response.choices[0].message.content"
   ]
  },
  {
   "cell_type": "code",
   "execution_count": 14,
   "metadata": {},
   "outputs": [],
   "source": [
    "def build_prompt_ollama(query, search_re):\n",
    "    # Define the system-level instructions\n",
    "    system_prompt = \"\"\"\n",
    "You are a highly empathetic and supportive mental health counseling assistant. Your task is to assist the PATIENT by providing detailed, thoughtful, and compassionate responses solely based on the CONTEXT from the Mental Health Counseling Conversations database.\n",
    "\n",
    "### Guidelines:\n",
    "1. Always use information explicitly found in the CONTEXT when responding to the PATIENT.\n",
    "   - Even if the CONTEXT isn't directly aligned, synthesize any insights that might be relevant or helpful to the patient's situation.\n",
    "2. If the CONTEXT contains multiple examples, leverage as many as necessary to craft a comprehensive, empathetic response.\n",
    "3. Write your response as a single, cohesive paragraph in the first-person singular perspective (e.g., \"I understand that...\").\n",
    "4. Maintain a supportive and conversational tone — be understanding, empathetic, and encouraging.\n",
    "5. Provide thoughtful, comprehensive answers. Avoid short or superficial responses.  \n",
    "6. Use the response \"I'm sorry, I don't have enough information to answer that right now.\" ONLY if the CONTEXT truly lacks sufficient information.\n",
    "   - If the CONTEXT contains any helpful insights, you must provide a response.\n",
    "\n",
    "### Example Response Format:\n",
    "Response: I understand that suicidal thoughts can be incredibly overwhelming, and I'm truly sorry you're going through this. Based on similar situations in the database, seeking support from a trusted mental health professional can be very important during these difficult moments. Talking to someone you trust, such as a friend or family member, might also help reduce some of the pressure you're feeling. You don't have to face this alone, and there are people who care and can help you.\n",
    "    \"\"\".strip()\n",
    "\n",
    "    # Build the context content dynamically\n",
    "    context = \"\\n\".join(\n",
    "        f\"Database Patient: {doc.get('_source', {}).get('Context', 'N/A')}\\n\"\n",
    "        f\"Database Response: {doc.get('_source', {}).get('Response', 'N/A')}\"\n",
    "        for doc in search_re\n",
    "    )\n",
    "\n",
    "    # Define user-specific content\n",
    "    user_prompt = f\"\"\"\n",
    "PATIENT: {query}\n",
    "\n",
    "CONTEXT from Mental Health Counseling Conversations database:\n",
    "{context}\n",
    "\"\"\".strip()\n",
    "\n",
    "    return f\"<|start_header_id|>system<|end_header_id|>\\n{system_prompt}\\n<|eot_id|>\\n<|start_header_id|>user<|end_header_id|>\\n{user_prompt}\\n<|eot_id|>\""
   ]
  },
  {
   "cell_type": "code",
   "execution_count": 15,
   "metadata": {},
   "outputs": [],
   "source": [
    "# rag_ollama function with elasticsearch\n",
    "\n",
    "\n",
    "def rag_ollama(query):\n",
    "    search_query = {\n",
    "        \"size\": 5,\n",
    "        \"query\": {\n",
    "            \"bool\": {\n",
    "                \"must\": {\n",
    "                    \"multi_match\": {\n",
    "                        \"query\": query,\n",
    "                        \"fields\": [\"Context^2\", \"Response\"],\n",
    "                        \"type\": \"most_fields\",\n",
    "                    }\n",
    "                }\n",
    "            }\n",
    "        },\n",
    "    }\n",
    "\n",
    "    response = es_client.search(index=index_name, body=search_query)\n",
    "    search_re = response[\"hits\"][\"hits\"]\n",
    "\n",
    "    prompt = build_prompt_ollama(query, search_re)\n",
    "    answer = llm_ollama(prompt)\n",
    "    print(prompt)\n",
    "    print(\"\")\n",
    "    print(\"-\" * 40)\n",
    "    print(\"\")\n",
    "    return answer"
   ]
  },
  {
   "cell_type": "code",
   "execution_count": 16,
   "metadata": {},
   "outputs": [
    {
     "name": "stdout",
     "output_type": "stream",
     "text": [
      "<|start_header_id|>system<|end_header_id|>\n",
      "You are a highly empathetic and supportive mental health counseling assistant. Your task is to assist the PATIENT by providing detailed, thoughtful, and compassionate responses solely based on the CONTEXT from the Mental Health Counseling Conversations database.\n",
      "\n",
      "### Guidelines:\n",
      "1. Always use information explicitly found in the CONTEXT when responding to the PATIENT.\n",
      "   - Even if the CONTEXT isn't directly aligned, synthesize any insights that might be relevant or helpful to the patient's situation.\n",
      "2. If the CONTEXT contains multiple examples, leverage as many as necessary to craft a comprehensive, empathetic response.\n",
      "3. Write your response as a single, cohesive paragraph in the first-person singular perspective (e.g., \"I understand that...\").\n",
      "4. Maintain a supportive and conversational tone — be understanding, empathetic, and encouraging.\n",
      "5. Provide thoughtful, comprehensive answers. Avoid short or superficial responses.  \n",
      "6. Use the response \"I'm sorry, I don't have enough information to answer that right now.\" ONLY if the CONTEXT truly lacks sufficient information.\n",
      "   - If the CONTEXT contains any helpful insights, you must provide a response.\n",
      "\n",
      "### Example Response Format:\n",
      "Response: I understand that suicidal thoughts can be incredibly overwhelming, and I'm truly sorry you're going through this. Based on similar situations in the database, seeking support from a trusted mental health professional can be very important during these difficult moments. Talking to someone you trust, such as a friend or family member, might also help reduce some of the pressure you're feeling. You don't have to face this alone, and there are people who care and can help you.\n",
      "<|eot_id|>\n",
      "<|start_header_id|>user<|end_header_id|>\n",
      "PATIENT: I moved to a new city and I'm feeling really lonely. I don't know how to make friends here.\n",
      "\n",
      "CONTEXT from Mental Health Counseling Conversations database:\n",
      "Database Patient: in the past year, two of my best and only close friends moved to different states. now i have nobody to hang out with. im always alone, and i honestly havent hung out with anyone since they left. im super lonely. what should i do to make new friends because they moved and i have no friends now, i think im falling into a depression or something. i just need help.\n",
      "Database Response: definitely it is sad to lose friends who are a regular part of daily life.how did you meet the two friends who just moved away its possible that you could look for similar situations and see if anyone catches your interest to know as a friend.keeping in mind that friendship is based on trust and common interests, and that these qualities require time to observe and develop, think of what you can do to keep happy while these paths unfold.in addition to being open to meeting new friends, involve yourself in projects from which youll feel satisfied by your own results.\n",
      "Database Patient: in the last ten months, ive been kicked out, moved around three times, worked many jobs, stopped school to make money, had dad and mom get sick, was cheated on while pregnant, lost my baby, had relationship issues, and was betrayed. i cant get a job. i have no friends. i feel lonely and isolated. ive been dealing with all this by myself.\n",
      "Database Response: one thing that may help is to focus on small things that you do have control over. if you can hold onto that sense of having control over what you wear or what you choose to eat or where you go during the day, this may help you be able to look at what is currently most important for you and consider different choices. for example, you say you cant get a job, but i wonder if you could work with and local agencies to help you find a job, like career link. you say you have no friends currently. are there any previous friends that you can get back in contact withyou mentioned that you have no friends. is there anyone in your life that you can talk with, even if its not someone that you consider a closest friend\n",
      "Database Patient: i live a normal life. i have tons of friends and family, but i feel lonely.\n",
      "Database Response: this may be happening because you and the others are not connected to each other on a level which reaches your emotions.loneliness may show the absence of feeling a variety of emotions when you are among others.how many friends you have doesnt affect whether you and someone else feel emotionally engaged with one another.consider if you feel like concentrating your friendship on more intensively sharing your feelings with a few of your friends.this may lead to fewer friends who are also more meaningful to you and your feeling a decrease of loneliness.\n",
      "Database Patient: i always see the worst end of things. my boyfriend and i arent talking, and i swear hes leaving me. i keep failing my road test, and i see my future crumble. i have no desire for friends. i pushed my best friend away after christmas, and i have no desire to fix it or make new friends. my aunt died, and i cry all the time, even if i burn my lunch.\n",
      "Database Response: i really love that youre taking responsibility for your pessimism here. theres a modern parable about two young brothers. one child is in a room full of every toy you could imagine, and hes miserable the other is in a room full of horse manure, and hes flinging it around with joy. so then someone comes and asks the first boy why hes so miserable, because he has so much. he says that hes missing the one toy that he really wants. then the brother is asked why hes so happy in a room full of manure, and he says with all this sht, theres gotta be a pony in here somewherehappiness is a state of mind, and i hear you saying that you used to be happy, so maybe this means you believe its possible. thats a wonderful start.research on depression shows us that it is very linked to pessimism. you say i always see the worst end of things. thats pessimism. life is like an elephant. if all you see is roughness, backup and walk around the view will change.the key to optimism is to build your ability to see the bad things in life as 1. temporary (this will pass. i know how to fix friendships), 2. specific (not involving the whole of your life), and 3. not your fault (tons of people fail road tests). on the flip side, it helps if we can see good things as 1. more permanent, 2. bleeding into other areas of our lives, and 3. something you created. not taking credit for good things and blaming yourself for the bad ones is typical especially of women.the feelings you are having are temporary youre in a slump and its a good time to sit down and look at how you can make the picture look different. i think you know how but you lack energy right now. if tackling this on your own isnt enough, a therapist can help you take that step back to look at the big picture and help you rebuild your natural resilience and capacity for joy. i wish you the best.\n",
      "Database Patient: i loved him more than anything. he passed away on our anniversary which was also the day i was going to apply for our apartment. im not handling it well. i moved to a new town and started a new life but nothing helps.\n",
      "Database Response: grief is unpredictable and does not fit into rules and stereotypes. everybody grieves differently, react in their own ways. there can be no expectations about how long, how hard, how easy it will be.furthermore there is no way around it. no matter how much we may want to escape the pain and accelerate the process by doing all the right things we have been told will help with our bereavement, there is only one way through...the more we allow the pain to go through us, experience it, accept it, acknowledge it, make peace with it, the more we will heal.grief comes in waves but can also feel like a rollercoaster. at first the waves feel like tsunamis, with time they become smaller and more spaced out. yet every time they catch us by surprise. all the firsts without them after a loved one has passed away, every anniversary, birthday, holiday, are all difficult times.you can not force grief to go away, to heal the wound faster than it needs to take. what you can do though is ride the wave. go with the flow. accept the pain. express it. talk to your loved one that has passed away. express your emotions, every single one of them, both positive and negative. write down in your journal. take good care of your body, your nutrition, your rest. grief is very taxing on the body too yet we disregard that.read inspiring books, surround yourself with beauty and things that soothe your soul. be brave and be open to the world out there, be vulnerable with pride. try new things you never dared try before. meet new people. travel. hang out with close friends. ask for help when you need it. be kind and gentle to yourself.the more you chase and wait for happiness, the more it will elude you. the more you stay bravely in your present and do the best you can, being loving to yourself, honest about your feelings and do not try to escape grief, the sooner it will loosen up its claws and allow you to feel relief and finally heal.one thing is for certain, happiness will be there to its appointment and it will be when you least expect itkeep the faith and keep walking, nothing can remain the same forever. the only certainty is change\n",
      "<|eot_id|>\n",
      "\n",
      "----------------------------------------\n",
      "\n",
      "I understand that feeling lonely after moving to a new city can be incredibly overwhelming, and I'm truly sorry you're going through this. Based on similar situations in the database, it's possible that you might be experiencing social isolation, which is often fueled by negative thoughts and catastrophic thinking patterns. You've mentioned that you used to have friends and connections before your move, but now you're feeling disconnected and uncertain about how to form new relationships. This is a common experience for many people who go through significant life changes, like moving to a new city.\n",
      "\n",
      "Given that you seem to be struggling with pessimistic thinking patterns, it might be helpful to explore cognitive-behavioral techniques to shift your focus towards more positive outlooks. Research has shown that reframing negative thoughts as temporary, specific, and not your fault can significantly impact your mental well-being. Additionally, cultivating a sense of gratitude by focusing on the good things in life, no matter how small they may seem, can help improve your mood and reduce feelings of loneliness.\n",
      "\n",
      "It's also essential to acknowledge that grief is an inevitable part of healing after a loss, whether it's due to someone passing away or a significant change in your life. While there's no set timeline for grief, being gentle with yourself and allowing the process to unfold at its own pace can help you navigate this difficult time.\n"
     ]
    }
   ],
   "source": [
    "# To run the rag_ollama function\n",
    "\n",
    "query = \"I moved to a new city and I'm feeling really lonely. I don't know how to make friends here.\"\n",
    "print(rag_ollama(query))"
   ]
  }
 ],
 "metadata": {
  "kernelspec": {
   "display_name": "llm-zoomcamp-project",
   "language": "python",
   "name": "python3"
  },
  "language_info": {
   "codemirror_mode": {
    "name": "ipython",
    "version": 3
   },
   "file_extension": ".py",
   "mimetype": "text/x-python",
   "name": "python",
   "nbconvert_exporter": "python",
   "pygments_lexer": "ipython3",
   "version": "3.10.15"
  }
 },
 "nbformat": 4,
 "nbformat_minor": 2
}
