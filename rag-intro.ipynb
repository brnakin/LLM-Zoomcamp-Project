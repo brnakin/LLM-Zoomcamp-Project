{
 "cells": [
  {
   "cell_type": "code",
   "execution_count": null,
   "id": "46c19980-d2a6-490b-9f61-d05b2b569290",
   "metadata": {},
   "outputs": [],
   "source": [
    "import pandas as pd\n",
    "import minsearch\n",
    "import re\n",
    "from openai import OpenAI\n",
    "from tqdm.auto import tqdm\n",
    "from elasticsearch import Elasticsearch"
   ]
  },
  {
   "cell_type": "code",
   "execution_count": 2,
   "id": "0ab61a73",
   "metadata": {},
   "outputs": [],
   "source": [
    "from dotenv import load_dotenv\n",
    "import os\n",
    "\n",
    "load_dotenv()\n",
    "open_ai_api_key = os.getenv(\"OPEN_AI_API_KEY\")"
   ]
  },
  {
   "cell_type": "code",
   "execution_count": 3,
   "id": "6e6f05ba-5e86-412a-992b-356c3a1188a2",
   "metadata": {},
   "outputs": [],
   "source": [
    "client = OpenAI(api_key=open_ai_api_key)"
   ]
  },
  {
   "cell_type": "code",
   "execution_count": 4,
   "id": "6398df0a-dfdf-4dc4-9b4a-a4e3fb976824",
   "metadata": {},
   "outputs": [],
   "source": [
    "from datasets import load_dataset\n",
    "\n",
    "dataset = load_dataset(\"Amod/mental_health_counseling_conversations\")"
   ]
  },
  {
   "cell_type": "code",
   "execution_count": 5,
   "id": "1d7e35a5-eec5-4c71-97dd-5737900a728c",
   "metadata": {},
   "outputs": [],
   "source": [
    "# Access the 'train' split of the dataset\n",
    "train_dataset = dataset[\"train\"]\n",
    "\n",
    "# Convert to a Pandas DataFrame\n",
    "df = pd.DataFrame(train_dataset)\n",
    "\n",
    "\n",
    "# Define a cleaning function to apply to the context and response columns\n",
    "def clean_text(text):\n",
    "    # Convert text to lowercase\n",
    "    text = text.lower()\n",
    "    # Remove newline characters, non-breaking spaces, and extra spaces\n",
    "    text = text.replace(\"\\n\", \"\").replace(\"\\xa0\", \"\")\n",
    "    # Replace multiple spaces between sentences with a single space\n",
    "    text = re.sub(r\"\\s+\", \" \", text)\n",
    "    # Remove any special characters except comma, dot, parentheses, and space\n",
    "    text = re.sub(r\"[^a-z0-9.,() ]+\", \"\", text)\n",
    "    # Strip leading/trailing spaces\n",
    "    text = text.strip()\n",
    "\n",
    "    return text\n",
    "\n",
    "\n",
    "# Apply the cleaning function to both the 'Context' and 'Response' columns\n",
    "df[\"Context\"] = df[\"Context\"].apply(clean_text)\n",
    "df[\"Response\"] = df[\"Response\"].apply(clean_text)\n",
    "\n",
    "# Remove duplicates based on 'Context' and 'Response' columns\n",
    "df = df.drop_duplicates(subset=[\"Context\", \"Response\"]).reset_index(drop=True)\n",
    "\n",
    "# Convert the DataFrame to a list of dictionaries\n",
    "documents = df.to_dict(orient=\"records\")"
   ]
  },
  {
   "cell_type": "code",
   "execution_count": null,
   "id": "c2d0262e-df2f-4287-aed0-eba16bdaacba",
   "metadata": {},
   "outputs": [],
   "source": [
    "index = minsearch.Index(\n",
    "    text_fields=[\"Context\", \"Response\"],\n",
    "    keyword_fields=[]  # Pass an empty list for keyword fields\n",
    ")"
   ]
  },
  {
   "cell_type": "code",
   "execution_count": null,
   "id": "23a9802c-0f89-464a-b7b4-b837e4977d3d",
   "metadata": {},
   "outputs": [],
   "source": [
    "index.fit(documents)"
   ]
  },
  {
   "cell_type": "code",
   "execution_count": null,
   "id": "ba79794a",
   "metadata": {},
   "outputs": [],
   "source": [
    "def search_minsearch(query):\n",
    "    boost = {\"Context\": 2.0, \"Response\": 1.0}\n",
    "\n",
    "    search_results = index.search(\n",
    "        query=query,\n",
    "        boost_dict=boost,\n",
    "        num_results=5\n",
    "    )\n",
    "\n",
    "    return search_results"
   ]
  },
  {
   "cell_type": "code",
   "execution_count": null,
   "id": "75247f8f",
   "metadata": {},
   "outputs": [],
   "source": [
    "def build_prompt_api(query, search_re):\n",
    "    prompt_template = \"\"\"\n",
    "You are a highly empathetic and supportive mental health counseling assistant. Your task is to assist the PATIENT by providing detailed, thoughtful, and compassionate responses solely based on the CONTEXT from the Mental Health Counseling Conversations database.\n",
    "\n",
    "### Guidelines:\n",
    "1. Use only facts explicitly found in the CONTEXT when responding to the PATIENT.\n",
    "2. Ensure your response directly references and meaningfully synthesizes the CONTEXT.\n",
    "3. Write your response as a **single, cohesive paragraph** in the **first-person singular** perspective (e.g., \"I understand that...\").\n",
    "4. Maintain a supportive and conversational tone — be understanding, empathetic, and encouraging.\n",
    "5. Provide thoughtful, comprehensive answers while staying approachable. Avoid short, fragmented, or superficial responses.\n",
    "6. If the CONTEXT does not contain sufficient information to answer, respond with:\n",
    "   - \"I'm sorry, I don't have enough information to answer that right now.\"\n",
    "\n",
    "### Example Response Format:\n",
    "Response: I understand that moving to a new place can feel lonely. Meeting new people while managing your emotions is a challenge I empathize with. One suggestion is to explore shared activities or groups that align with your interests, which may naturally lead to new friendships without feeling overwhelming. Balancing social engagement and self-care often helps during times of transition.\n",
    "\n",
    "CONTEXT:\n",
    "{context}\n",
    "\n",
    "PATIENT: {question}\n",
    "\"\"\".strip()\n",
    "    context = \"\"\n",
    "\n",
    "    for doc in search_re:\n",
    "        context = (\n",
    "            context + f\"Database Patient: {doc['Context']}\\nDatabase Response: {doc['Response']}\\n\\n\"\n",
    "        )\n",
    "\n",
    "    prompt = prompt_template.format(question=query, context=context).strip()\n",
    "    return prompt"
   ]
  },
  {
   "cell_type": "code",
   "execution_count": null,
   "id": "20bc8160-e0d3-4d81-a56f-dd481bd3e153",
   "metadata": {},
   "outputs": [],
   "source": [
    "def llm_api(prompt):\n",
    "    response = client.chat.completions.create(\n",
    "        model=\"gpt-4o-mini\",\n",
    "        messages=[{\"role\": \"user\", \"content\": prompt}]\n",
    "    )\n",
    "    \n",
    "    return response.choices[0].message.content"
   ]
  },
  {
   "cell_type": "code",
   "execution_count": null,
   "id": "f922f75e-f9fc-41fe-ab18-f3a274e6a90a",
   "metadata": {},
   "outputs": [],
   "source": [
    "def rag_api(query):\n",
    "    search_re = search_minsearch(query)\n",
    "    prompt = build_prompt_api(query, search_re)\n",
    "    answer = llm_api(prompt)\n",
    "    print(prompt)\n",
    "    print(\"\")\n",
    "    print(\"-\" * 40)\n",
    "    print(\"\")\n",
    "    return answer"
   ]
  },
  {
   "cell_type": "code",
   "execution_count": null,
   "id": "3de60145",
   "metadata": {},
   "outputs": [],
   "source": [
    "query = \"I moved to a new city and I'm feeling really lonely. I don't know how to make friends here.\""
   ]
  },
  {
   "cell_type": "code",
   "execution_count": null,
   "id": "1a43bca4-4d1f-4368-89ac-3aa4d36bfb97",
   "metadata": {},
   "outputs": [],
   "source": [
    "print(rag_api(query))"
   ]
  },
  {
   "cell_type": "code",
   "execution_count": null,
   "id": "71fb9eec",
   "metadata": {},
   "outputs": [],
   "source": [
    "\"\"\"\n",
    "docker run -it \\\n",
    "    --rm \\\n",
    "    --name elasticsearch \\\n",
    "    -m 4GB \\\n",
    "    -p 9200:9200 \\\n",
    "    -p 9300:9300 \\\n",
    "    -e \"discovery.type=single-node\" \\\n",
    "    -e \"xpack.security.enabled=false\" \\\n",
    "    docker.elastic.co/elasticsearch/elasticsearch:8.4.3\n",
    "\"\"\""
   ]
  },
  {
   "cell_type": "code",
   "execution_count": null,
   "id": "bb3289c5",
   "metadata": {},
   "outputs": [],
   "source": [
    "es_client = Elasticsearch('http://localhost:9200')\n",
    "\n",
    "es_client.info()"
   ]
  },
  {
   "cell_type": "code",
   "execution_count": null,
   "id": "7a470685",
   "metadata": {},
   "outputs": [],
   "source": [
    "index_name = \"conversations\""
   ]
  },
  {
   "cell_type": "code",
   "execution_count": null,
   "id": "5151e07d",
   "metadata": {},
   "outputs": [],
   "source": [
    "# To list all the indices\n",
    "\n",
    "es_client.indices.get_alias()"
   ]
  },
  {
   "cell_type": "code",
   "execution_count": null,
   "id": "518bf46d",
   "metadata": {},
   "outputs": [],
   "source": [
    "resp = es_client.indices.delete(\n",
    "    index=index_name\n",
    ")"
   ]
  },
  {
   "cell_type": "code",
   "execution_count": null,
   "id": "6599af32",
   "metadata": {},
   "outputs": [],
   "source": [
    "index_settings = {\n",
    "    \"settings\": {\"number_of_shards\": 1, \"number_of_replicas\": 0},\n",
    "    \"mappings\": {\n",
    "        \"properties\": {\n",
    "            \"Context\": {\"type\": \"text\"},\n",
    "            \"Response\": {\"type\": \"text\"},\n",
    "        }\n",
    "    },\n",
    "}\n",
    "\n",
    "es_client.indices.create(index=index_name, body=index_settings)"
   ]
  },
  {
   "cell_type": "code",
   "execution_count": null,
   "id": "2ea09f61",
   "metadata": {},
   "outputs": [],
   "source": [
    "es_client.indices.get(index=index_name)"
   ]
  },
  {
   "cell_type": "code",
   "execution_count": null,
   "id": "5a412bb3",
   "metadata": {},
   "outputs": [],
   "source": [
    "for doc in tqdm(documents):\n",
    "    es_client.index(index=index_name, document=doc)"
   ]
  },
  {
   "cell_type": "code",
   "execution_count": null,
   "id": "0c136150",
   "metadata": {},
   "outputs": [],
   "source": [
    "ollama_api_key = os.getenv(\"OLLAMA_API_KEY\")"
   ]
  },
  {
   "cell_type": "code",
   "execution_count": null,
   "id": "f2f53f4e",
   "metadata": {},
   "outputs": [],
   "source": [
    "client_ollama = OpenAI(base_url=\"http://localhost:11434/v1/\", api_key=ollama_api_key)"
   ]
  },
  {
   "cell_type": "code",
   "execution_count": null,
   "id": "ccd9ec79",
   "metadata": {},
   "outputs": [],
   "source": [
    "def llm_ollama(prompt):\n",
    "    response = client_ollama.chat.completions.create(\n",
    "        model=\"llama3.2\", messages=[{\"role\": \"user\", \"content\": prompt}]\n",
    "    )\n",
    "\n",
    "    return response.choices[0].message.content"
   ]
  },
  {
   "cell_type": "code",
   "execution_count": null,
   "id": "27ffefc2",
   "metadata": {},
   "outputs": [],
   "source": [
    "print(query)"
   ]
  },
  {
   "cell_type": "code",
   "execution_count": null,
   "id": "2cf13722",
   "metadata": {},
   "outputs": [],
   "source": [
    "query = \"Suicidal thoughts are overwhelming me. I don't know what to do.\""
   ]
  },
  {
   "cell_type": "code",
   "execution_count": null,
   "id": "c7d931f2",
   "metadata": {},
   "outputs": [],
   "source": [
    "def build_prompt_ollama(query, search_re):\n",
    "    # Define the system-level instructions\n",
    "    system_prompt = \"\"\"\n",
    "You are a highly empathetic and supportive mental health counseling assistant. Your task is to assist the PATIENT by providing detailed, thoughtful, and compassionate responses solely based on the CONTEXT from the Mental Health Counseling Conversations database.\n",
    "\n",
    "### Guidelines:\n",
    "1. Always use information explicitly found in the CONTEXT when responding to the PATIENT.\n",
    "   - Even if the CONTEXT isn't directly aligned, synthesize any insights that might be relevant or helpful to the patient's situation.\n",
    "2. If the CONTEXT contains multiple examples, leverage as many as necessary to craft a comprehensive, empathetic response.\n",
    "3. Write your response as a single, cohesive paragraph in the first-person singular perspective (e.g., \"I understand that...\").\n",
    "4. Maintain a supportive and conversational tone — be understanding, empathetic, and encouraging.\n",
    "5. Provide thoughtful, comprehensive answers. Avoid short or superficial responses.  \n",
    "6. Use the response \"I'm sorry, I don't have enough information to answer that right now.\" ONLY if the CONTEXT truly lacks sufficient information.\n",
    "   - If the CONTEXT contains any helpful insights, you must provide a response.\n",
    "\n",
    "### Example Response Format:\n",
    "Response: I understand that suicidal thoughts can be incredibly overwhelming, and I'm truly sorry you're going through this. Based on similar situations in the database, seeking support from a trusted mental health professional can be very important during these difficult moments. Talking to someone you trust, such as a friend or family member, might also help reduce some of the pressure you're feeling. You don't have to face this alone, and there are people who care and can help you.\n",
    "    \"\"\".strip()\n",
    "\n",
    "    # Build the context content dynamically\n",
    "    context = \"\\n\".join(\n",
    "        f\"Database Patient: {doc.get('_source', {}).get('Context', 'N/A')}\\n\"\n",
    "        f\"Database Response: {doc.get('_source', {}).get('Response', 'N/A')}\"\n",
    "        for doc in search_re\n",
    "    )\n",
    "\n",
    "    # Define user-specific content\n",
    "    user_prompt = f\"\"\"\n",
    "PATIENT: {query}\n",
    "\n",
    "CONTEXT from Mental Health Counseling Conversations database:\n",
    "{context}\n",
    "\"\"\".strip()\n",
    "\n",
    "    return f\"<|start_header_id|>system<|end_header_id|>\\n{system_prompt}\\n<|eot_id|>\\n<|start_header_id|>user<|end_header_id|>\\n{user_prompt}\\n<|eot_id|>\""
   ]
  },
  {
   "cell_type": "code",
   "execution_count": null,
   "id": "52990b0c",
   "metadata": {},
   "outputs": [],
   "source": [
    "# rag_ollama function with elasticsearch\n",
    "\n",
    "def rag_ollama(query):\n",
    "    search_query = {\n",
    "        \"size\": 5,\n",
    "        \"query\": {\n",
    "            \"bool\": {\n",
    "                \"must\": {\n",
    "                    \"multi_match\": {\n",
    "                        \"query\": query,\n",
    "                        \"fields\": [\"Context^2\", \"Response\"],\n",
    "                        \"type\": \"most_fields\",\n",
    "                    }\n",
    "                }\n",
    "            }\n",
    "        },\n",
    "    }\n",
    "\n",
    "    response = es_client.search(index=index_name, body=search_query)\n",
    "    search_re = response[\"hits\"][\"hits\"]\n",
    "\n",
    "    prompt = build_prompt_ollama(query, search_re)\n",
    "    answer = llm_ollama(prompt)\n",
    "    print(prompt)\n",
    "    print(\"\")\n",
    "    print(\"-\" * 40)\n",
    "    print(\"\")\n",
    "    return answer"
   ]
  },
  {
   "cell_type": "code",
   "execution_count": null,
   "id": "141db3ab",
   "metadata": {},
   "outputs": [],
   "source": [
    "# To run the rag_ollama function\n",
    "\n",
    "print(rag_ollama(query))"
   ]
  },
  {
   "cell_type": "markdown",
   "id": "23218f9f",
   "metadata": {},
   "source": [
    "### This is Llama3B\n",
    "I understand that suicidal thoughts can be incredibly overwhelming, and I'm truly sorry you're going through this. Based on similar situations in the database, taking care of one's immediate well-being is crucial during these difficult moments. It sounds like staying with your mom could provide a sense of safety and stability, which might help alleviate some of the pressure you're feeling. Since you've had anxiety attacks and suicidal thoughts before, finding healthy coping mechanisms can be beneficial. I'm reminded that deep breathing exercises, as mentioned earlier, can be helpful in managing anxiety symptoms. It's also essential to explore what worked for you in the past and adapting those techniques to better cope with your current anxiety. If these feelings worsen or become overwhelming, reaching out to a trusted adult, such as a parent or authority figure, can provide support and guidance. Considering speaking with your therapist about new coping strategies when they are available may also be beneficial."
   ]
  },
  {
   "cell_type": "markdown",
   "id": "04ee5857",
   "metadata": {},
   "source": [
    "### This is DeepSeek-R1:1.5B\n",
    "I'm really sorry to hear that you're feeling so overwhelmed by these suicidal thoughts at school. Let me try to break this down a bit.\n",
    "\n",
    "First off, it sounds like you're dealing with feelings that some people around you may perceive as judgment or worry because they judge others or think about how social interactions can affect you more than your personal feelings. Your body might be reacting differently too; the thoughts could also trigger physical reactions, so taking care of yourself is important.\n",
    "\n",
    "Since you’re still relatively young compared to adults, it’s probably a good idea to focus on your own healing and progress. School dances alone seem too overwhelming for that age group—without enough social interaction, the pressure can be higher than usual. I’d suggest avoiding any activities or social situations where people are judging you because this could help reduce some of these feelings.\n",
    "\n",
    "I also remember reading in the context how adults often have rights and responsibilities compared to other people. You might need to talk with someone older if your interactions are making others feel judged, but at 18/plus, that’s probably not yet necessary or even something you’re worried about for a few years.\n",
    "\n",
    "For self-care, especially when actions manifest your thoughts or feelings, focus on thinking about what you could do differently. For example, instead of worrying too much because it feels overwhelming right now, maybe think about how if I’m doing great on school work, that can help you feel less alone. Practice mindfulness and relaxation techniques; they might just help reduce the intensity of your emotions.\n",
    "\n",
    "Overall, your feelings are valid, but support from people older in similar lives who have also shared these thoughts could be a helpful reminder to continue living with some balance and not hold onto these things for too long. You’re brave for dealing with this, so keep pushing forward despite it and seek support. Please know you’ve made the choice to feel this way and that I’m here if you need further help."
   ]
  },
  {
   "cell_type": "markdown",
   "id": "35a441f9",
   "metadata": {},
   "source": [
    "### This is Qwen2.5:3B\n",
    "\n",
    "I understand that suicidal thoughts are absolutely overwhelming, especially during a time when you're already experiencing anxiety attacks and depressive symptoms. It's important to prioritize your safety and find ways to cope with these intense feelings as soon as possible. Here’s a comprehensive plan we can put in place:\n",
    "\n",
    "1. **Safety First**: Ensure that whatever happens does not lead to self-harm. This may mean taking immediate steps like calling a crisis hotline or seeking the help of someone you trust, such as your parents, close friends who are supportive, or even going to an emergency room if needed.\n",
    "\n",
    "2. **Professional Support**: If you haven't already talked to a therapist about these suicidal thoughts, it's crucial that you find the availability to do so. Mental health professionals can provide strategies and tools to manage intense negative feelings and teach coping mechanisms to reduce recurrence of such symptoms. \n",
    "\n",
    "3. **Coping Strategies for Anxiety Attacks**: Given your history with anxiety attacks, utilizing deep breathing exercises or mindfulness techniques could be very helpful. You mentioned using an online resource before; I would strongly encourage you to explore a few reliable apps that focus on managing anxiety and stress. Apps like Headspace, Calm or Moodfit can provide guided meditations and sessions to promote relaxation.\n",
    "\n",
    "4. **Social Support Systems**: While it may seem isolating now, try reaching out to supportive friends who might be experiencing similar thoughts but don't have the same level of distress. Engaging with them through text messages or video calls could alleviate some of your feelings of loneliness. If you feel able to confide in another person more directly, consider talking to trusted teachers or school counselors about what's happening.\n",
    "\n",
    "5. **Self-Care and Coping Mechanisms**: Make sure that you're engaging in adequate self-care practices to counteract the effects of anxiety and depression. This can include exercises like yoga, listening to music, reading a book, taking up a hobby, or even simply stepping outside for some fresh air if it's safe.\n",
    "\n",
    "5. **Plan for Tomorrow**: Remind yourself of your goals for tomorrow – no matter how small. Whether it’s attending a school dance, going to an appointment, or just spending time doing something meaningful that you enjoy and look forward to. Having a focused goal can help shift the focus away from overwhelming fears towards positive futures.\n",
    "\n",
    "6. **Connect with Resources**: If you need more immediate support, there are several resources that can offer assistance right away:\n",
    "   - **Crisis Text Line** (text HOME to 741741)\n",
    "   - **National Suicide Prevention Lifeline** (call 988)\n",
    "\n",
    "Remember, it's perfectly okay to have these feelings and it is crucial to seek help. Your thoughts are valid, and you deserve care. I urge you to take this step towards safety as your immediate next action and consider scheduling an appointment with a therapist or counselor soon. You might need to wait a little longer until someone has free availability, but try reaching out at least once by contacting trusted adults or professionals who can support you while arranging another more suitable time for therapy.\n",
    "\n",
    "Please remember, regardless of how hard things seem right now, help is available and hope is within reach. Your well-being is extremely important, and taking these steps will begin to bring you relief and stability."
   ]
  },
  {
   "cell_type": "markdown",
   "id": "99c514c7",
   "metadata": {},
   "source": []
  }
 ],
 "metadata": {
  "kernelspec": {
   "display_name": "llm-zoomcamp-project",
   "language": "python",
   "name": "python3"
  },
  "language_info": {
   "codemirror_mode": {
    "name": "ipython",
    "version": 3
   },
   "file_extension": ".py",
   "mimetype": "text/x-python",
   "name": "python",
   "nbconvert_exporter": "python",
   "pygments_lexer": "ipython3",
   "version": "3.10.15"
  }
 },
 "nbformat": 4,
 "nbformat_minor": 5
}
