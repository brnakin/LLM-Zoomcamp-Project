{
 "cells": [
  {
   "cell_type": "code",
   "execution_count": 1,
   "id": "46c19980-d2a6-490b-9f61-d05b2b569290",
   "metadata": {},
   "outputs": [],
   "source": [
    "import json\n",
    "import pandas as pd\n",
    "import minsearch\n",
    "import re\n",
    "from openai import OpenAI\n",
    "from tqdm.auto import tqdm\n",
    "from elasticsearch import Elasticsearch"
   ]
  },
  {
   "cell_type": "code",
   "execution_count": null,
   "id": "0ab61a73",
   "metadata": {},
   "outputs": [],
   "source": [
    "from dotenv import load_dotenv\n",
    "import os\n",
    "\n",
    "load_dotenv()\n",
    "open_ai_api_key = os.getenv(\"OPEN_AI_API_KEY\")"
   ]
  },
  {
   "cell_type": "code",
   "execution_count": null,
   "id": "6e6f05ba-5e86-412a-992b-356c3a1188a2",
   "metadata": {},
   "outputs": [],
   "source": [
    "client = OpenAI(api_key=open_ai_api_key)"
   ]
  },
  {
   "cell_type": "code",
   "execution_count": 3,
   "id": "6398df0a-dfdf-4dc4-9b4a-a4e3fb976824",
   "metadata": {},
   "outputs": [],
   "source": [
    "from datasets import load_dataset\n",
    "\n",
    "dataset = load_dataset(\"Amod/mental_health_counseling_conversations\")"
   ]
  },
  {
   "cell_type": "code",
   "execution_count": 4,
   "id": "1d7e35a5-eec5-4c71-97dd-5737900a728c",
   "metadata": {},
   "outputs": [],
   "source": [
    "# Access the 'train' split of the dataset\n",
    "train_dataset = dataset['train']\n",
    "\n",
    "# Convert to a Pandas DataFrame\n",
    "df = pd.DataFrame(train_dataset)\n",
    "\n",
    "# Define a cleaning function to apply to the context and response columns\n",
    "def clean_text(text):\n",
    "    # Convert text to lowercase\n",
    "    text = text.lower()\n",
    "    # Remove newline characters, non-breaking spaces, and extra spaces\n",
    "    text = text.replace(\"\\n\", \"\").replace(\"\\xa0\", \"\")\n",
    "    # Replace multiple spaces between sentences with a single space\n",
    "    text = re.sub(r\"\\s+\", \" \", text)\n",
    "    # Remove any special characters except comma, dot, parentheses, and space\n",
    "    text = re.sub(r\"[^a-z0-9.,() ]+\", \"\", text)\n",
    "    # Strip leading/trailing spaces\n",
    "    text = text.strip()\n",
    "\n",
    "    return text\n",
    "\n",
    "# Apply the cleaning function to both the 'Context' and 'Response' columns\n",
    "df[\"Context\"] = df[\"Context\"].apply(clean_text)\n",
    "df[\"Response\"] = df[\"Response\"].apply(clean_text)\n",
    "\n",
    "# Remove duplicates based on 'Context' and 'Response' columns\n",
    "df = df.drop_duplicates(subset=[\"Context\", \"Response\"]).reset_index(drop=True)\n",
    "\n",
    "# Convert the cleaned DataFrame to JSON format\n",
    "json_data = df.to_json(orient='records', lines=False)\n",
    "\n",
    "# Load the JSON data\n",
    "docs_raw = json.loads(json_data)\n",
    "\n",
    "# Now your dataset is cleaned with no extra spaces or newlines between sentences"
   ]
  },
  {
   "cell_type": "code",
   "execution_count": 5,
   "id": "6f3ca336-21fb-4484-8f52-1e632b025dcd",
   "metadata": {},
   "outputs": [],
   "source": [
    "# Load the JSON data\n",
    "docs_raw = json.loads(json_data)\n",
    "\n",
    "# Initialize an empty list to hold the documents\n",
    "documents = []\n",
    "\n",
    "# Iterate over the loaded JSON\n",
    "for doc in docs_raw:\n",
    "    documents.append(doc)"
   ]
  },
  {
   "cell_type": "code",
   "execution_count": 6,
   "id": "c2d0262e-df2f-4287-aed0-eba16bdaacba",
   "metadata": {},
   "outputs": [],
   "source": [
    "index = minsearch.Index(\n",
    "    text_fields=[\"Context\", \"Response\"],\n",
    "    keyword_fields=[]  # Pass an empty list for keyword fields\n",
    ")"
   ]
  },
  {
   "cell_type": "code",
   "execution_count": 7,
   "id": "23a9802c-0f89-464a-b7b4-b837e4977d3d",
   "metadata": {},
   "outputs": [
    {
     "data": {
      "text/plain": [
       "<minsearch.Index at 0x7f04f44d33a0>"
      ]
     },
     "execution_count": 7,
     "metadata": {},
     "output_type": "execute_result"
    }
   ],
   "source": [
    "index.fit(documents)"
   ]
  },
  {
   "cell_type": "code",
   "execution_count": 8,
   "id": "ba79794a",
   "metadata": {},
   "outputs": [],
   "source": [
    "def search(query):\n",
    "    boost = {\"Context\": 3.0, \"Response\": 1.0}\n",
    "\n",
    "    search_results = index.search(\n",
    "        query=query,\n",
    "        boost_dict=boost,\n",
    "        num_results=5\n",
    "    )\n",
    "\n",
    "    # If we've reached max attempts, return what we have\n",
    "    return search_results"
   ]
  },
  {
   "cell_type": "code",
   "execution_count": 9,
   "id": "5edf59d1-446c-4294-b364-9420d687add4",
   "metadata": {},
   "outputs": [],
   "source": [
    "def build_prompt(query, search_re):\n",
    "    prompt_template = \"\"\"\n",
    "You are mental health counseling assistant. Answer the PATIENT based on the CONTEXT from the Mental Health Counseling Conversations database.\n",
    "Use only the facts from the CONTEXT when aswering the PATIENT.\n",
    "Give answers with a human-like tone and not short.\n",
    "If the CONTEXT does not contain the answer, output NONE.\n",
    "\n",
    "PATIENT: {question}\n",
    "\n",
    "CONTEXT:\n",
    "{context}\n",
    "\"\"\".strip()\n",
    "    context = \"\"\n",
    "\n",
    "    for doc in search_re:\n",
    "        context = context + f\"patient: {doc['Context']}\\nresponse: {doc['Response']}\\n\\n\"\n",
    "\n",
    "    prompt = prompt_template.format(question=query, context=context).strip()\n",
    "    return prompt"
   ]
  },
  {
   "cell_type": "code",
   "execution_count": 10,
   "id": "20bc8160-e0d3-4d81-a56f-dd481bd3e153",
   "metadata": {},
   "outputs": [],
   "source": [
    "def llm(prompt):\n",
    "    response = client.chat.completions.create(\n",
    "        model=\"gpt-4o-mini\",\n",
    "        messages=[{\"role\": \"user\", \"content\": prompt}]\n",
    "    )\n",
    "    \n",
    "    return response.choices[0].message.content"
   ]
  },
  {
   "cell_type": "code",
   "execution_count": 11,
   "id": "f922f75e-f9fc-41fe-ab18-f3a274e6a90a",
   "metadata": {},
   "outputs": [],
   "source": [
    "def rag(query):\n",
    "    search_re = search(query)\n",
    "    prompt = build_prompt(query, search_re)\n",
    "    answer = llm(prompt)\n",
    "    print(prompt)\n",
    "    print(\"\")\n",
    "    print(\"-\" * 40)\n",
    "    print(\"\")\n",
    "    return answer"
   ]
  },
  {
   "cell_type": "code",
   "execution_count": 12,
   "id": "82aedff4",
   "metadata": {},
   "outputs": [],
   "source": [
    "query = \"I feel depressed\""
   ]
  },
  {
   "cell_type": "code",
   "execution_count": 13,
   "id": "1a43bca4-4d1f-4368-89ac-3aa4d36bfb97",
   "metadata": {},
   "outputs": [
    {
     "name": "stdout",
     "output_type": "stream",
     "text": [
      "You are mental health counseling assistant. Answer the PATIENT based on the CONTEXT from the Mental Health Counseling Conversations database.\n",
      "Use only the facts from the CONTEXT when aswering the PATIENT.\n",
      "Give answers with a human-like tone and not short.\n",
      "If the CONTEXT does not contain the answer, output NONE.\n",
      "\n",
      "PATIENT: I feel depressed\n",
      "\n",
      "CONTEXT:\n",
      "patient: im very depressed. how do i find someone to talk to\n",
      "response: hang in there feeling depressed sucks but talking with someone can really help  so its awesome that youre already trying to figure out how to find that person. tons of good suggestions already but to add my two cents  you can find therapists in your area and read a little bit about them to find someone you like the sound of via this website, and also via www.psychologytoday.com if you have health insurance your insurer might be able to make recommendations as to therapists covered by your plan, or if you happen to be in school, the school itself should be able to connect you with either their own counselor or a center that they recommend nearby. finding someone can take a few calls or a bit of research so if you need some immediate support, or find yourself having thoughts of hurting yourself, you can also call the great folks who run the suicide crisis linehttpssuicidepreventionlifeline.org  they are great in moments of crisis.\n",
      "\n",
      "patient: im very depressed. how do i find someone to talk to\n",
      "response: if there is no one in your life with whom you feel comfortable, i would recommend identifying someone on this site, psychology today or goodtherapy.org who is in your area, then give that therapist a call to see if you would be a good match.\n",
      "\n",
      "patient: im very depressed. how do i find someone to talk to\n",
      "response: hi,reaching out here is a great start i recommend looking for somebody in your area that works with people experiencing depression. after youve chosen somebody to try, feel free to call them for a consultation a lot of counselors and therapists offer free consultations, and remember that your counselor is working for you, so make sure they are a good fit i hope this has been of some help.\n",
      "\n",
      "patient: im very depressed. how do i find someone to talk to\n",
      "response: the first step, which youve taken, is actually wanting to talk to someone. its a great sign that you are seeking to reach out for help. and there are therapists everywhere (there are even therapists online, so you dont have to be that close to them or their office.)there are several sites that i refer people to to begin the process of looking for a therapist. i usually have them start with psychologytoday.com. once there (there is a therapist directory), you can narrow choices down by ages that they work with, insurance they accept, depression as an issue they focus in, etc. you can also narrow down by therapists modality, but that can get complicated if you arent too familiar with the various theoretical approaches. its important that you find someone that you feel understands your situation. that might mean that they identify an issue you are having in their profile, or on their professional website. but, you should try to meet a couple of different therapists if you arent quite sure. it can be challenging that first session, but your best (note, not the best) therapist will help you feel comfortable (or as comfortable as possible, given therapy can be uncomfortable especially at first) and understood from the getgo.i have found that asking friends or family for names and recommendations is also a common way to find a therapist, because it can come from a trusted referral source. but remember that we are all different, so what works for one might not always be a good fit. and again, it could take a couple of first sessions with different therapists to know if someone is a good fit (sometimes, it can take a few sessions.) and if there is no one around that can give a name or two, then searching online is quite common and can yield positive results.and try not to give up finding a therapist is not easy, but finding a good one for you is extremely rewarding.\n",
      "\n",
      "patient: im very depressed. how do i find someone to talk to\n",
      "response: great that you realize talking with a professional counselor about how you feel, would be helpfulif youd like a very fast response by phone, then google depression hotline for where you live. and, if you have a specific topic which upsets you then google around with this topic to see if there are services specific to your interest.if youve got time to invest in looking for the best fit therapist for yourself, then google therapy or therapist.there will be many, many names which come up.i know i sound like i work for google only it is the easiest way to find lots of information.i send you good luck\n",
      "\n",
      "----------------------------------------\n",
      "\n",
      "I’m really sorry to hear that you're feeling this way, but it's great that you're looking for someone to talk to. One of the best first steps is to find a therapist who specializes in depression. You can begin by checking websites like Psychology Today or GoodTherapy.org, where you can search for therapists in your area. They often have profiles that let you know their specialties, which can help you find someone who understands what you're going through.\n",
      "\n",
      "You might also consider reaching out to your healthcare provider if you have health insurance, as they can offer recommendations for therapists covered by your plan. If you're in school, the counseling center there can be a valuable resource, too.\n",
      "\n",
      "Remember, it might take a few tries to find a therapist that's a good fit for you, and that’s completely normal. Don’t hesitate to book consultations with a couple of different people—you want to feel comfortable and supported. If you ever find yourself in immediate distress or having thoughts of hurting yourself, please call a crisis hotline. There are people ready to help you whenever you need it. You're taking a brave step by seeking support, and I hope you find the right person to talk to soon.\n"
     ]
    }
   ],
   "source": [
    "print(rag(query))"
   ]
  },
  {
   "cell_type": "code",
   "execution_count": 14,
   "id": "71fb9eec",
   "metadata": {},
   "outputs": [
    {
     "data": {
      "text/plain": [
       "'\\ndocker run -it     --rm     --name elasticsearch     -m 4GB     -p 9200:9200     -p 9300:9300     -e \"discovery.type=single-node\"     -e \"xpack.security.enabled=false\"     docker.elastic.co/elasticsearch/elasticsearch:8.4.3\\n'"
      ]
     },
     "execution_count": 14,
     "metadata": {},
     "output_type": "execute_result"
    }
   ],
   "source": [
    "\"\"\"\n",
    "docker run -it \\\n",
    "    --rm \\\n",
    "    --name elasticsearch \\\n",
    "    -m 4GB \\\n",
    "    -p 9200:9200 \\\n",
    "    -p 9300:9300 \\\n",
    "    -e \"discovery.type=single-node\" \\\n",
    "    -e \"xpack.security.enabled=false\" \\\n",
    "    docker.elastic.co/elasticsearch/elasticsearch:8.4.3\n",
    "\"\"\""
   ]
  },
  {
   "cell_type": "code",
   "execution_count": 15,
   "id": "bb3289c5",
   "metadata": {},
   "outputs": [],
   "source": [
    "es_client = Elasticsearch('http://localhost:9200')"
   ]
  },
  {
   "cell_type": "code",
   "execution_count": 16,
   "id": "fdd5530f",
   "metadata": {},
   "outputs": [
    {
     "data": {
      "text/plain": [
       "ObjectApiResponse({'name': 'c18f6eb81659', 'cluster_name': 'docker-cluster', 'cluster_uuid': 'Z7LbOWGtTGe4-fy6B858nQ', 'version': {'number': '8.4.3', 'build_flavor': 'default', 'build_type': 'docker', 'build_hash': '42f05b9372a9a4a470db3b52817899b99a76ee73', 'build_date': '2022-10-04T07:17:24.662462378Z', 'build_snapshot': False, 'lucene_version': '9.3.0', 'minimum_wire_compatibility_version': '7.17.0', 'minimum_index_compatibility_version': '7.0.0'}, 'tagline': 'You Know, for Search'})"
      ]
     },
     "execution_count": 16,
     "metadata": {},
     "output_type": "execute_result"
    }
   ],
   "source": [
    "es_client.info()"
   ]
  },
  {
   "cell_type": "code",
   "execution_count": 17,
   "id": "6599af32",
   "metadata": {},
   "outputs": [
    {
     "data": {
      "text/plain": [
       "ObjectApiResponse({'acknowledged': True, 'shards_acknowledged': True, 'index': 'conversations'})"
      ]
     },
     "execution_count": 17,
     "metadata": {},
     "output_type": "execute_result"
    }
   ],
   "source": [
    "index_settings = {\n",
    "    \"settings\": {\"number_of_shards\": 1, \"number_of_replicas\": 0},\n",
    "    \"mappings\": {\n",
    "        \"properties\": {\n",
    "            \"Context\": {\"type\": \"text\"},\n",
    "            \"Response\": {\"type\": \"text\"},\n",
    "        }\n",
    "    },\n",
    "}\n",
    "\n",
    "index_name = \"conversations\"\n",
    "\n",
    "es_client.indices.create(index=index_name, body=index_settings)"
   ]
  },
  {
   "cell_type": "code",
   "execution_count": 18,
   "id": "5a412bb3",
   "metadata": {},
   "outputs": [
    {
     "data": {
      "application/vnd.jupyter.widget-view+json": {
       "model_id": "e9564f8801af454981b8fb0d5c3aaf11",
       "version_major": 2,
       "version_minor": 0
      },
      "text/plain": [
       "  0%|          | 0/2076 [00:00<?, ?it/s]"
      ]
     },
     "metadata": {},
     "output_type": "display_data"
    }
   ],
   "source": [
    "for doc in tqdm(documents):\n",
    "    es_client.index(index=index_name, document=doc)"
   ]
  },
  {
   "cell_type": "code",
   "execution_count": 19,
   "id": "ca9b7dc2",
   "metadata": {},
   "outputs": [
    {
     "name": "stdout",
     "output_type": "stream",
     "text": [
      "I feel depressed\n"
     ]
    }
   ],
   "source": [
    "print(query)"
   ]
  },
  {
   "cell_type": "code",
   "execution_count": 20,
   "id": "64118ad4",
   "metadata": {},
   "outputs": [],
   "source": [
    "search_query = {\n",
    "    \"size\": 5,\n",
    "    \"query\": {\n",
    "        \"bool\": {\n",
    "            \"must\": {\n",
    "                \"multi_match\": {\n",
    "                    \"query\": query,\n",
    "                    \"fields\": [\"Context^3\", \"Response\"],\n",
    "                    \"type\": \"most_fields\",\n",
    "                }\n",
    "            }\n",
    "        }\n",
    "    },\n",
    "}"
   ]
  },
  {
   "cell_type": "code",
   "execution_count": 21,
   "id": "a03b95d1",
   "metadata": {},
   "outputs": [
    {
     "data": {
      "text/plain": [
       "{'total': {'value': 1919, 'relation': 'eq'},\n",
       " 'max_score': 21.112282,\n",
       " 'hits': [{'_index': 'conversations',\n",
       "   '_id': 'hMm1w5IBlh6TdS5ZxOwJ',\n",
       "   '_score': 21.112282,\n",
       "   '_source': {'Context': 'im in my late teens and live with my dad. the only time i go out is for my college classes. sometimes when i see my friends i want to talk with them, but sometimes i wont want to talk to them for days or even weeks. sometimes i feel im not worth knowing or im never going to do anything right. are they right, am i depressed',\n",
       "    'Response': 'if we were in my office together, i would offer that most likely you are feeling somewhat depressed. its most important for me to impress that you dont have to live like this... other helpful information have you experienced similar symptoms before anyone in your family been depressed before based on other physiological signs, like quality of sleep, appetite, energymotivation, i would present you with some treatment options, one of which would be to consult with a medication management provider to assess your symptoms and provide additional information for you to consider.'}},\n",
       "  {'_index': 'conversations',\n",
       "   '_id': '4Mm1w5IBlh6TdS5Zxuxz',\n",
       "   '_score': 21.041115,\n",
       "   '_source': {'Context': 'i am not sure if i am depressed. i dont know how to bring it up to my parents, and that makes me miserable.',\n",
       "    'Response': 'i am so sorry you are struggling i do think its a good idea to share your feelings with your parents and perhaps get some help connecting with a counselor or therapist if you feel that might help. there are lots of ways to tell them, depending on your relationship. maybe saying i wanted to tell you guys something.. sometimes i worry that i might be depressed. or, some folks will write a letter, or even send a text. the most important thing is that you tell someone you trust so you dont feel so miserable. i hope this helps. best of luck.'}},\n",
       "  {'_index': 'conversations',\n",
       "   '_id': '08m1w5IBlh6TdS5ZxuwT',\n",
       "   '_score': 20.923262,\n",
       "   '_source': {'Context': 'i feel depressed even though i act like a happy with my family. i act like im happy so my son doesnt see me sad. i act like my life is a happy life, but i feel sad and depressed. i sometimes think of killing myself and that my family deserve someone better than me. i just cry and write in my book all these feelings.',\n",
       "    'Response': 'it sounds like you have several different things happening at the same time. i would encourage you to call and speak to a local therapist. if you are having thoughts of killing yourself in this moment, please call 8002738255 and talk to someone.while i follow that you would like your son to be unaware of what you are going through, that doesnt mean that you cant discuss your feelings with someone else. who is it that you trust or could speak with about this a therapist could be one person, but perhaps there is someone else in your life as well.one thing that may help is to find a bead or rock that is smooth and you can hold onto it while thinking of a specific memory where you were happy. this could be from as long ago as necessary as long as it is specific and you can place yourself back in that time when you are thinking about it. if you think about this time while holding onto the bead, the bead may remind you of a time when you felt happy. you could do the same thing for a time when you felt comfortable and safe.have you recognized any patterns for what is leading you to be sadcan you think of anything that makes you feel good, even if it only works for a few minutes'}},\n",
       "  {'_index': 'conversations',\n",
       "   '_id': '78m1w5IBlh6TdS5ZxuzN',\n",
       "   '_score': 20.861105,\n",
       "   '_source': {'Context': 'i feel angry, anxious, and depressed. the ptsd i suffer is from a past relationship.',\n",
       "    'Response': 'if the symptoms are to the extent that they are affecting your ability to function, you may want to consider seeking treatment. ptsd, anxiety, and depression all typically respond well to treatment if provided by a trained clinician. common types of treatment for ptsd that you may want to look into include cognitive processing therapy or emdr. the nice things about cognitive processing therapy is that it is time limited and only lasts 17 sessions typically.'}},\n",
       "  {'_index': 'conversations',\n",
       "   '_id': '6sm1w5IBlh6TdS5Zxuyx',\n",
       "   '_score': 20.234884,\n",
       "   '_source': {'Context': 'i started having anxiety three months ago. im new to having anxiety, and its making me depressed.',\n",
       "    'Response': 'as a past sufferer of anxiety myself, i have learned that it is a natural part of life, it is a natural part of us, the longer we try to run from it the more it entangles us in its clutches, if we deny certain parts of ourselves we will become depressed or even oppressed, the only way to deal with anxiety is to embrace it and accept it, and in fighting the fight without fighting we will eventually win, i would encourage you to look into acceptance and commitment therapy, your answer i think lies in that area of research. hope this helps,c'}}]}"
      ]
     },
     "execution_count": 21,
     "metadata": {},
     "output_type": "execute_result"
    }
   ],
   "source": [
    "response = es_client.search(index=index_name, body=search_query)\n",
    "response[\"hits\"]"
   ]
  },
  {
   "cell_type": "code",
   "execution_count": 22,
   "id": "e195b903",
   "metadata": {},
   "outputs": [
    {
     "data": {
      "text/plain": [
       "'resp = es_client.indices.delete(\\n    index=\"conversations9\",\\n)'"
      ]
     },
     "execution_count": 22,
     "metadata": {},
     "output_type": "execute_result"
    }
   ],
   "source": [
    "'''resp = es_client.indices.delete(\n",
    "    index=\"conversations9\",\n",
    ")'''"
   ]
  },
  {
   "cell_type": "code",
   "execution_count": null,
   "id": "0c136150",
   "metadata": {},
   "outputs": [],
   "source": [
    "ollama_api_key = os.getenv(\"OPEN_AI_API_KEY\")"
   ]
  },
  {
   "cell_type": "code",
   "execution_count": null,
   "id": "f2f53f4e",
   "metadata": {},
   "outputs": [],
   "source": [
    "client_ollama = OpenAI(base_url=\"http://localhost:11434/v1/\", api_key=ollama_api_key)"
   ]
  },
  {
   "cell_type": "code",
   "execution_count": 24,
   "id": "ccd9ec79",
   "metadata": {},
   "outputs": [],
   "source": [
    "def llm(prompt):\n",
    "    response = client_ollama.chat.completions.create(\n",
    "        model=\"llama3.2:1b\", messages=[{\"role\": \"user\", \"content\": prompt}]\n",
    "    )\n",
    "\n",
    "    return response.choices[0].message.content"
   ]
  },
  {
   "cell_type": "code",
   "execution_count": 25,
   "id": "a3812d6c",
   "metadata": {},
   "outputs": [
    {
     "data": {
      "text/plain": [
       "\"I'm so sorry to hear that you're feeling depressed. It's completely understand that it can be a really tough and overwhelming experience.\\n\\nFirstly, please know that you're not alone, and there are people who care about you and want to help. I'm here to listen and offer support in any way I can.\\n\\nCan you tell me more about how you're feeling? What's been going on that might be contributing to your depression? Is it related to work, relationships, or something else?\\n\\nAlso, have you tried anything to talk about your feelings or seek help so far? Sometimes just sharing what you're going through with someone who can offer support and guidance can make a big difference.\\n\\nRemember, I'm here to listen without judgment, and we can explore this together at our own pace.\""
      ]
     },
     "execution_count": 25,
     "metadata": {},
     "output_type": "execute_result"
    }
   ],
   "source": [
    "llm(\"I feel depressed\")"
   ]
  },
  {
   "cell_type": "code",
   "execution_count": 26,
   "id": "141db3ab",
   "metadata": {},
   "outputs": [
    {
     "name": "stdout",
     "output_type": "stream",
     "text": [
      "I'm so sorry to hear that you're feeling depressed. It's completely understand that it can be a really tough and overwhelming experience.\n",
      "\n",
      "Firstly, please know that you're not alone, and there are people who care about you and want to help. I'm here to listen and offer support in any way I can.\n",
      "\n",
      "Can you tell me more about how you're feeling? What's been going on that might be contributing to your depression? Is it related to work, relationships, or something else?\n",
      "\n",
      "Also, have you tried anything to talk about your feelings or seek help so far? Sometimes just sharing what you're going through with someone who can offer support and guidance can make a big difference.\n",
      "\n",
      "Remember, I'm here to listen without judgment, and we can explore this together at our own pace.\n"
     ]
    }
   ],
   "source": [
    "print(_)"
   ]
  },
  {
   "cell_type": "code",
   "execution_count": null,
   "id": "af90f42c",
   "metadata": {},
   "outputs": [],
   "source": []
  }
 ],
 "metadata": {
  "kernelspec": {
   "display_name": "llm-zoomcamp-project",
   "language": "python",
   "name": "python3"
  },
  "language_info": {
   "codemirror_mode": {
    "name": "ipython",
    "version": 3
   },
   "file_extension": ".py",
   "mimetype": "text/x-python",
   "name": "python",
   "nbconvert_exporter": "python",
   "pygments_lexer": "ipython3",
   "version": "3.10.15"
  }
 },
 "nbformat": 4,
 "nbformat_minor": 5
}
