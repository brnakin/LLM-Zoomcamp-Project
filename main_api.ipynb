{
 "cells": [
  {
   "cell_type": "code",
   "execution_count": 1,
   "metadata": {},
   "outputs": [],
   "source": [
    "import pandas as pd\n",
    "from openai import OpenAI\n",
    "from tqdm.auto import tqdm\n",
    "from elasticsearch import Elasticsearch"
   ]
  },
  {
   "cell_type": "code",
   "execution_count": 2,
   "metadata": {},
   "outputs": [],
   "source": [
    "from dotenv import load_dotenv\n",
    "import os\n",
    "\n",
    "load_dotenv()\n",
    "open_ai_api_key = os.getenv(\"OPEN_AI_API_KEY\")\n",
    "client = OpenAI(api_key=open_ai_api_key)"
   ]
  },
  {
   "cell_type": "code",
   "execution_count": 3,
   "metadata": {},
   "outputs": [],
   "source": [
    "from datasets import load_dataset\n",
    "\n",
    "dataset = load_dataset(\"Amod/mental_health_counseling_conversations\")"
   ]
  },
  {
   "cell_type": "code",
   "execution_count": 4,
   "metadata": {},
   "outputs": [],
   "source": [
    "# Access the 'train' split of the dataset\n",
    "train_dataset = dataset[\"train\"]\n",
    "\n",
    "# Convert to a Pandas DataFrame\n",
    "df = pd.DataFrame(train_dataset)\n",
    "\n",
    "# Remove duplicates based on 'Context' and 'Response' columns\n",
    "df = df.drop_duplicates(subset=[\"Context\", \"Response\"]).reset_index(drop=True)\n",
    "\n",
    "# Convert the DataFrame to a list of dictionaries\n",
    "documents = df.to_dict(orient=\"records\")"
   ]
  },
  {
   "cell_type": "code",
   "execution_count": 5,
   "metadata": {},
   "outputs": [
    {
     "name": "stderr",
     "output_type": "stream",
     "text": [
      "2025-02-10 18:01:17.911721: E tensorflow/compiler/xla/stream_executor/cuda/cuda_dnn.cc:9342] Unable to register cuDNN factory: Attempting to register factory for plugin cuDNN when one has already been registered\n",
      "2025-02-10 18:01:17.911841: E tensorflow/compiler/xla/stream_executor/cuda/cuda_fft.cc:609] Unable to register cuFFT factory: Attempting to register factory for plugin cuFFT when one has already been registered\n",
      "2025-02-10 18:01:17.913600: E tensorflow/compiler/xla/stream_executor/cuda/cuda_blas.cc:1518] Unable to register cuBLAS factory: Attempting to register factory for plugin cuBLAS when one has already been registered\n",
      "2025-02-10 18:01:18.069954: I tensorflow/core/platform/cpu_feature_guard.cc:182] This TensorFlow binary is optimized to use available CPU instructions in performance-critical operations.\n",
      "To enable the following instructions: AVX2 FMA, in other operations, rebuild TensorFlow with the appropriate compiler flags.\n"
     ]
    }
   ],
   "source": [
    "from sentence_transformers import SentenceTransformer\n",
    "\n",
    "model = SentenceTransformer(\"all-mpnet-base-v2\")"
   ]
  },
  {
   "cell_type": "code",
   "execution_count": 6,
   "metadata": {},
   "outputs": [
    {
     "data": {
      "text/plain": [
       "ObjectApiResponse({'name': '8f338eb9f1b5', 'cluster_name': 'docker-cluster', 'cluster_uuid': '5Jx4uPnlQpm3ajp4aMjonQ', 'version': {'number': '8.4.3', 'build_flavor': 'default', 'build_type': 'docker', 'build_hash': '42f05b9372a9a4a470db3b52817899b99a76ee73', 'build_date': '2022-10-04T07:17:24.662462378Z', 'build_snapshot': False, 'lucene_version': '9.3.0', 'minimum_wire_compatibility_version': '7.17.0', 'minimum_index_compatibility_version': '7.0.0'}, 'tagline': 'You Know, for Search'})"
      ]
     },
     "execution_count": 6,
     "metadata": {},
     "output_type": "execute_result"
    }
   ],
   "source": [
    "es_client = Elasticsearch(\"http://localhost:9200\")\n",
    "\n",
    "es_client.info()"
   ]
  },
  {
   "cell_type": "code",
   "execution_count": 7,
   "metadata": {},
   "outputs": [
    {
     "data": {
      "application/vnd.jupyter.widget-view+json": {
       "model_id": "e5e382260fc74a78aa88eaa5c81940cc",
       "version_major": 2,
       "version_minor": 0
      },
      "text/plain": [
       "  0%|          | 0/2752 [00:00<?, ?it/s]"
      ]
     },
     "metadata": {},
     "output_type": "display_data"
    }
   ],
   "source": [
    "# To create the dense vector using the pre-trained Sentence Transformer model\n",
    "operations = []\n",
    "\n",
    "for doc in tqdm(documents):\n",
    "    context = doc[\"Context\"]\n",
    "    response = doc[\"Response\"]\n",
    "    context_embedding = model.encode(context)\n",
    "    response_embedding = model.encode(response)\n",
    "\n",
    "    operations.append(\n",
    "        {\n",
    "            \"Context\": context,\n",
    "            \"Response\": response,\n",
    "            \"Context_embedding\": context_embedding.tolist(),\n",
    "            \"Response_embedding\": response_embedding.tolist()\n",
    "        }\n",
    "    )"
   ]
  },
  {
   "cell_type": "code",
   "execution_count": 8,
   "metadata": {},
   "outputs": [
    {
     "data": {
      "text/plain": [
       "ObjectApiResponse({'acknowledged': True})"
      ]
     },
     "execution_count": 8,
     "metadata": {},
     "output_type": "execute_result"
    }
   ],
   "source": [
    "es_client.indices.delete(index=\"conversations\", ignore_unavailable=True)"
   ]
  },
  {
   "cell_type": "code",
   "execution_count": 9,
   "metadata": {},
   "outputs": [],
   "source": [
    "index_name = \"conversations\"\n",
    "\n",
    "if es_client.indices.exists(index=index_name):\n",
    "    print(f\"Index '{index_name}' already exists.\")\n",
    "else:\n",
    "    # Define the index mapping\n",
    "    index_mapping = {\n",
    "        \"settings\": {\"number_of_shards\": 1, \"number_of_replicas\": 0},\n",
    "        \"mappings\": {\n",
    "            \"properties\": {\n",
    "                \"Context\": {\"type\": \"text\"},\n",
    "                \"Response\": {\"type\": \"text\"},\n",
    "                \"Context_embedding\": {\n",
    "                    \"type\": \"dense_vector\",\n",
    "                    \"dims\": 768,\n",
    "                    \"index\": True,\n",
    "                    \"similarity\": \"cosine\",\n",
    "                },\n",
    "                \"Cesponse_embedding\": {\n",
    "                    \"type\": \"dense_vector\",\n",
    "                    \"dims\": 768,\n",
    "                    \"index\": True,\n",
    "                    \"similarity\": \"cosine\",\n",
    "                },\n",
    "            }\n",
    "        },\n",
    "    }\n",
    "\n",
    "    # Create the index with the mapping\n",
    "    es_client.indices.create(index=index_name, body=index_mapping)"
   ]
  },
  {
   "cell_type": "code",
   "execution_count": 10,
   "metadata": {},
   "outputs": [
    {
     "data": {
      "application/vnd.jupyter.widget-view+json": {
       "model_id": "3d8637c1e4544936b65f266889d0887f",
       "version_major": 2,
       "version_minor": 0
      },
      "text/plain": [
       "  0%|          | 0/2752 [00:00<?, ?it/s]"
      ]
     },
     "metadata": {},
     "output_type": "display_data"
    }
   ],
   "source": [
    "for doc in tqdm(operations):\n",
    "    es_client.index(index=index_name, document=doc)"
   ]
  },
  {
   "cell_type": "code",
   "execution_count": 11,
   "metadata": {},
   "outputs": [],
   "source": [
    "def llm_api(prompt):\n",
    "    response = client.chat.completions.create(\n",
    "        model=\"gpt-4o-mini\", messages=[{\"role\": \"user\", \"content\": prompt}]\n",
    "    )\n",
    "\n",
    "    return response.choices[0].message.content"
   ]
  },
  {
   "cell_type": "code",
   "execution_count": 16,
   "metadata": {},
   "outputs": [],
   "source": [
    "def build_prompt_api(query, search_re):\n",
    "    prompt_template = \"\"\"\n",
    "You are a highly empathetic and supportive mental health counseling assistant. Your task is to assist the PATIENT by providing detailed, thoughtful, and compassionate responses solely based on the CONTEXT from the Mental Health Counseling Conversations database.\n",
    "\n",
    "### Guidelines:\n",
    "1. **Always use information explicitly found in the CONTEXT when responding to the PATIENT.**  \n",
    "   - Even if the CONTEXT isn't directly aligned, synthesize any insights that might be relevant or helpful to the patient's situation.  \n",
    "2. **If the CONTEXT contains multiple examples, leverage as many as necessary** to craft a comprehensive, empathetic response.  \n",
    "3. Write your response as a **single, cohesive paragraph** in the **first-person singular** perspective (e.g., \"I understand that...\") and answer like a human being.\n",
    "4. Maintain a supportive and conversational tone — be understanding, empathetic, and encouraging.\n",
    "5. Provide thoughtful, comprehensive answers. Avoid short or superficial responses.  \n",
    "6. **Use the response \"I'm sorry, I don't have enough information to answer that right now.\" ONLY if the CONTEXT truly lacks sufficient information.**\n",
    "   - If the CONTEXT contains any helpful insights, you must provide a response.\n",
    "\n",
    "CONTEXT from Mental Health Counseling Conversations database:\n",
    "{context}\n",
    "\n",
    "### Example Response Format:\n",
    "Response: <Your detailed answer here>\n",
    "\n",
    "PATIENT: {question}\n",
    "\"\"\".strip()\n",
    "    context = \"\"\n",
    "\n",
    "    for doc in search_re[\"hits\"][\"hits\"]:\n",
    "        source = doc.get(\"_source\", {})\n",
    "        context += (\n",
    "            f\"Database Patient: {source.get('Context', 'N/A')}\\n\"\n",
    "            f\"Database Response: {source.get('Response', 'N/A')}\\n\\n\"\n",
    "        )\n",
    "\n",
    "    prompt = prompt_template.format(question=query, context=context).strip()\n",
    "    return prompt"
   ]
  },
  {
   "cell_type": "code",
   "execution_count": 14,
   "metadata": {},
   "outputs": [],
   "source": [
    "# rag_api function with elasticsearch\n",
    "\n",
    "\n",
    "def rag_api(query):\n",
    "\n",
    "    vector_search_term = model.encode(query)\n",
    "\n",
    "    search_query = {\n",
    "        \"field\": \"Context_embedding\",\n",
    "        \"query_vector\": vector_search_term,\n",
    "        \"k\": 5,\n",
    "        \"num_candidates\": 10000,\n",
    "    }\n",
    "\n",
    "    search_re = es_client.search(\n",
    "        index=index_name, knn=search_query, source=[\"Context\", \"Response\"]\n",
    "    )\n",
    "    search_re[\"hits\"][\"hits\"]\n",
    "\n",
    "    prompt = build_prompt_api(query, search_re)\n",
    "    answer = llm_api(prompt)\n",
    "    print(prompt)\n",
    "    print(\"\")\n",
    "    print(\"-\" * 40)\n",
    "    print(\"\")\n",
    "    return answer"
   ]
  },
  {
   "cell_type": "code",
   "execution_count": 18,
   "metadata": {},
   "outputs": [
    {
     "name": "stdout",
     "output_type": "stream",
     "text": [
      "You are a highly empathetic and supportive mental health counseling assistant. Your task is to assist the PATIENT by providing detailed, thoughtful, and compassionate responses solely based on the CONTEXT from the Mental Health Counseling Conversations database.\n",
      "\n",
      "### Guidelines:\n",
      "1. **Always use information explicitly found in the CONTEXT when responding to the PATIENT.**  \n",
      "   - Even if the CONTEXT isn't directly aligned, synthesize any insights that might be relevant or helpful to the patient's situation.  \n",
      "2. **If the CONTEXT contains multiple examples, leverage as many as necessary** to craft a comprehensive, empathetic response.  \n",
      "3. Write your response as a **single, cohesive paragraph** in the **first-person singular** perspective (e.g., \"I understand that...\") and answer like a human being.\n",
      "4. Maintain a supportive and conversational tone — be understanding, empathetic, and encouraging.\n",
      "5. Provide thoughtful, comprehensive answers. Avoid short or superficial responses.  \n",
      "6. **Use the response \"I'm sorry, I don't have enough information to answer that right now.\" ONLY if the CONTEXT truly lacks sufficient information.**\n",
      "   - If the CONTEXT contains any helpful insights, you must provide a response.\n",
      "\n",
      "CONTEXT from Mental Health Counseling Conversations database:\n",
      "Database Patient: I always feel like I'm not good enough and it literally is so hard living. I don't know how to talk to my parents about it.\n",
      "Database Response: Are you a teen?  This is a really hard problem for more teens (and adults) than let on.  When I was about 15, I remember asking my parent's friend, Herman, whether life gets any easier when you get older.  He said the problems are actually harder, but you gain the ability to deal with them better.  I've been an adult a long time now, and that is so true. If you need someone to talk to, consider a teacher or a school guidance counselor or someone you respect, maybe in church.  If they're good and they don't know how to help you, they may know how to get you to someone who can.  Also, the idea of not being \"good enough\" is a common psychological event.  In CBT it's called a \"core belief,\" but I call it a \"core lie\" in my book, Living Yes, a Handbook for Being Human.  If you are serious about changing yourself, read about it  at www.LivingYes.org and pick up a copy there or on Amazon.  I hope this was helpful.  The future is filled with possibility if we don't prejudge it!  ~Mark (www.MarkMorrisLCSW.com and www.LivingYes.org)\n",
      "\n",
      "Database Patient: I'm always told I'm not good enough or trying hard enough. I put 100% in to every thing. I'm worn out, I've worked on all of my family relationships, I'm doing great in school, I'm kind to those in need and otherwise. I stick to my religious beliefs and leave room for mistakes and learn from others so I don't have to make as many and the ones I do I learn from.  Somehow it's still not good enough and nothing I do works. Nothing has changed, and I feel hopeless. Any suggestions or ideas?\n",
      "Database Response: Hello, and let me say first, what a great question! There are so many people putting forth their 100% everyday and often times, do not get the credit they deserve. Without being able to fully understand where you're question is coming from, I think there are a couple of different ways to look at this question.First, I think it's important for us to consider the message being sent by those in your life stating that you're \"not good enough.\" Is that ACTUALLY what they said, or is this just what you heard? Sometimes, because of our own self-doubts and fears, we skew and misinterpret the messages we receive from others. Again, listen to the message being sent and attempt to remain objective. Is the message being sent coming from a place of love or concern? If so, have an honest and open communication with that individual about what your concerns are regarding the amount of energy and time you're spending on being \"good enough.\" Explore with them how you feel you'r already giving your best.If the person is unwilling to work at understanding this concern you have, then it may be time to explore the relationship. Some relationships we engage in can be toxic, especially if the other person is toxic. It may be they have their own \"stuff\" going on and they feel the need to constantly put others down to make themselves feel better. If you're in the direct path of this individual, then it serves to reason you will probably be in the direct fire, as well. Explore whether or not you want this relationship to continue in your life. If it's a relationship that MUST continue, then work on what you will do to distance yourself from their toxicity or their problems. Until they're willing to work on these issues for themselves, then it may be necessary to find an exit strategy, such as leaving the room or simply refusing to engage in the conversation. Another perspective of this question is exploring the reason why it's important for YOU to satisfy the expectations of these other individuals? NO ONE will ever be 100% \"good enough\" for EVERYONE. Every single person has their own set of expectations in themselves and expectations in others. It would be impossible to satisfy all of those expectations for every single person in our lives. The question becomes, what is it WITHIN you that feels the need to meet these expectations? There is most likely a part of you, yourself, as an individual that feels \"less than\" and feels as if you, yourself, are not good enough. It then becomes impossible to every feel \"good enough\" for others, because it's really YOU you're trying to feel good enough for. If you already feel as if you're doing everything you can do to be at your best version of yourself, then really work on LETTING GO of the rest. No one is perfect, and striving for perfection in our lives only creates more anxiety and stress. Find a middle ground in which you are happy with your accomplishments and your daily goals, and learn to let go of what's left. After all, tomorrow is a new day and you can work on more of your goals tomorrow!I recommend doing this by finding a mantra, a statement or phrase you can repeat to yourself anytime you start to feel that sense of stress and pressure from striving for perfection. The mantra can remind you to let go of this expectation you have for yourself or that others have for you so you can also let go of the stress and anxiety surrounding the expectation. I leave you with one of my favorite quotes that perhaps you can use as your mantra, \"No one can make you feel inferior without your consent. \" - Eleanor Roosevelt.\n",
      "\n",
      "Database Patient: I'm always told I'm not good enough or trying hard enough. I put 100% in to every thing. I'm worn out, I've worked on all of my family relationships, I'm doing great in school, I'm kind to those in need and otherwise. I stick to my religious beliefs and leave room for mistakes and learn from others so I don't have to make as many and the ones I do I learn from.  Somehow it's still not good enough and nothing I do works. Nothing has changed, and I feel hopeless. Any suggestions or ideas?\n",
      "Database Response: The feeling of never feeling good enough usually stems from our early relationship with our parents or significant role models who made us to feel we were never good enough to meet their standards. In the healing process, you'll need to work on discovering the root source of where these thoughts and feelings come from and then learn to accept yourself just as you are unconditionally. I'd be pleased to help you in this process. I provide online private counseling through proventherapy.com. Dr. Rachelle Vaughan\n",
      "\n",
      "Database Patient: I'm always told I'm not good enough or trying hard enough. I put 100% in to every thing. I'm worn out, I've worked on all of my family relationships, I'm doing great in school, I'm kind to those in need and otherwise. I stick to my religious beliefs and leave room for mistakes and learn from others so I don't have to make as many and the ones I do I learn from.  Somehow it's still not good enough and nothing I do works. Nothing has changed, and I feel hopeless. Any suggestions or ideas?\n",
      "Database Response: It sounds like you are aware of your positive traits but you are struggling with someone who does not acknowledge nor celebrate your efforts or achievements.   It seems like that is affecting your inner voice, which allows you to accept yourself for who you are.My suggestion is to explore that relationship and decide if that person’s opinion should determine how you feel about yourself.   If this is an important relationship, you could communicate to this person how the lack of positive feedback is affecting you.  Then, work on spending more time with those who value you, and can give you praise, encouragement, and constructive criticism.  Also, explore your religious beliefs, and what is they say about who you are as a person.  Finally, explore with a Counselor your inner voice and try to figure out if the negative message is settling in and harming your self-esteem.   Through therapy, you could learn to self-compassion and acceptance wich will help your self esteem.¿Cómo manejo el sentirme que “no soy suficiente bueno”?Siempre me dicen que no soy suficientemente bueno o no trato lo suficiente.  Yo pongo el 100% en todo.  Estoy agotado, he trabajado en todas mis relaciones, estoy muy bien en la escuela, trato bien a las personas que lo necesitan.  Me aferro a mis creencias religiosas y dejo espacio para los errores, y aprendo de otros para no tener que cometer los mismos.  Aun así no soy suficiente y nada de lo que hago funciona, me siento desesperanzado.  ¿Alguna idea o sugerencia?Al parecer estas consiente de tus características positivas, pero estás teniendo  dificultad con alguien que no reconoce tus esfuerzos, ni logros, y eso está afectando esa voz interior que te permite aceptar quien eres.Mi sugerencia es que explores esa relación y analices si la opinión de esta persona va a determinar cómo te valoras a ti mismo.  Si es una relación valiosa, puedes comunicarle a la persona en cuestión como te afecta la falta de comentarios y opiniones positivas.   Luego enfócate en pasar más tiempo con personas que te valoran, te dan halagos, te motivan y te aconsejan.  También explora que dice tu religión sobre quién eres como persona y cuál es tu valor.  Y por último, explora con tu Consejero si ese mensaje negativo esta afectando tu autoestima.  A través de la terapia puedes aprender tecnicas auto compasión y aceptación que ayudaran a fortalecerte.\n",
      "\n",
      "Database Patient: I'm always told I'm not good enough or trying hard enough. I put 100% in to every thing. I'm worn out, I've worked on all of my family relationships, I'm doing great in school, I'm kind to those in need and otherwise. I stick to my religious beliefs and leave room for mistakes and learn from others so I don't have to make as many and the ones I do I learn from.  Somehow it's still not good enough and nothing I do works. Nothing has changed, and I feel hopeless. Any suggestions or ideas?\n",
      "Database Response: Hi, I'm Amelia! Oh, this is a common problem, unfortunately! Let me say first of all, that doing more, giving more, loving more, performing more will never provide you with a sense of worth. Nor will it satisfy those that are critical and judgmental. I am so sorry to hear that this is what you've heard all your life! You are a human BEING not a human DOING.If you can get yourself in counseling with a trusted therapist who will accept you, encourage you, hear you and support you, you can begin to work on what truth worth is.  My best to you!\n",
      "\n",
      "\n",
      "\n",
      "### Example Response Format:\n",
      "Response: <Your detailed answer here>\n",
      "\n",
      "PATIENT: I feel like I'm not good enough for anything.\n",
      "\n",
      "----------------------------------------\n",
      "\n",
      "I understand that feeling like you're not good enough can be incredibly overwhelming and discouraging. It seems that despite all the effort you put into your relationships, school, and personal growth, you’re still met with criticism and judgment, which can really wear you down. I want to emphasize that your worth is not defined by the opinions of others; you are a human BEING, not a human DOING. It's important to explore the relationships that bring negativity into your life—consider whether those opinions are fair or if they stem from their own insecurities. I encourage you to focus on spending time with people who appreciate and validate you for who you are. Seeking guidance from a therapist could also be beneficial as they can help you untangle these feelings of inadequacy and support you in recognizing your intrinsic worth. Remember, it's okay to let go of the idea of perfection and to be compassionate with yourself as you navigate these feelings. You're not alone in this, and there is hope for a brighter perspective ahead.\n"
     ]
    }
   ],
   "source": [
    "query = \"I feel like I'm not good enough for anything.\"\n",
    "print(rag_api(query))"
   ]
  }
 ],
 "metadata": {
  "kernelspec": {
   "display_name": "llm-zoomcamp-project",
   "language": "python",
   "name": "python3"
  },
  "language_info": {
   "codemirror_mode": {
    "name": "ipython",
    "version": 3
   },
   "file_extension": ".py",
   "mimetype": "text/x-python",
   "name": "python",
   "nbconvert_exporter": "python",
   "pygments_lexer": "ipython3",
   "version": "3.10.15"
  }
 },
 "nbformat": 4,
 "nbformat_minor": 2
}
