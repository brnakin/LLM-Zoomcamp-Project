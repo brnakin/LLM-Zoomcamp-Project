{
 "cells": [
  {
   "cell_type": "code",
   "execution_count": null,
   "metadata": {},
   "outputs": [],
   "source": [
    "import pandas as pd\n",
    "from openai import OpenAI\n",
    "from tqdm.auto import tqdm\n",
    "from elasticsearch import Elasticsearch"
   ]
  },
  {
   "cell_type": "code",
   "execution_count": 2,
   "metadata": {},
   "outputs": [],
   "source": [
    "from dotenv import load_dotenv\n",
    "import os\n",
    "\n",
    "load_dotenv()\n",
    "open_ai_api_key = os.getenv(\"OPEN_AI_API_KEY\")\n",
    "client = OpenAI(api_key=open_ai_api_key)"
   ]
  },
  {
   "cell_type": "code",
   "execution_count": 3,
   "metadata": {},
   "outputs": [],
   "source": [
    "from datasets import load_dataset\n",
    "\n",
    "dataset = load_dataset(\"Amod/mental_health_counseling_conversations\")"
   ]
  },
  {
   "cell_type": "code",
   "execution_count": 12,
   "metadata": {},
   "outputs": [],
   "source": [
    "# Access the 'train' split of the dataset\n",
    "train_dataset = dataset[\"train\"]\n",
    "\n",
    "# Convert to a Pandas DataFrame\n",
    "df = pd.DataFrame(train_dataset)\n",
    "\n",
    "# Remove duplicates based on 'Context' and 'Response' columns\n",
    "df = df.drop_duplicates(subset=[\"Context\", \"Response\"]).reset_index(drop=True)\n",
    "\n",
    "# Convert the DataFrame to a list of dictionaries\n",
    "documents = df.to_dict(orient=\"records\")"
   ]
  },
  {
   "cell_type": "code",
   "execution_count": 13,
   "metadata": {},
   "outputs": [
    {
     "data": {
      "text/plain": [
       "ObjectApiResponse({'name': 'a6093b0b66f0', 'cluster_name': 'docker-cluster', 'cluster_uuid': '-sAtmUKZTz6ltxy-y4uXGw', 'version': {'number': '8.4.3', 'build_flavor': 'default', 'build_type': 'docker', 'build_hash': '42f05b9372a9a4a470db3b52817899b99a76ee73', 'build_date': '2022-10-04T07:17:24.662462378Z', 'build_snapshot': False, 'lucene_version': '9.3.0', 'minimum_wire_compatibility_version': '7.17.0', 'minimum_index_compatibility_version': '7.0.0'}, 'tagline': 'You Know, for Search'})"
      ]
     },
     "execution_count": 13,
     "metadata": {},
     "output_type": "execute_result"
    }
   ],
   "source": [
    "es_client = Elasticsearch(\"http://localhost:9200\")\n",
    "\n",
    "es_client.info()"
   ]
  },
  {
   "cell_type": "code",
   "execution_count": 14,
   "metadata": {},
   "outputs": [
    {
     "name": "stdout",
     "output_type": "stream",
     "text": [
      "Index 'conversations' already exists.\n"
     ]
    }
   ],
   "source": [
    "index_name = \"conversations\"\n",
    "\n",
    "if es_client.indices.exists(index=index_name):\n",
    "    print(f\"Index '{index_name}' already exists.\")\n",
    "else:\n",
    "    # Define the index mapping\n",
    "    index_mapping = {\n",
    "        \"settings\": {\"number_of_shards\": 1, \"number_of_replicas\": 0},\n",
    "        \"mappings\": {\n",
    "            \"properties\": {\n",
    "                \"Context\": {\"type\": \"text\"},\n",
    "                \"Response\": {\"type\": \"text\"},\n",
    "            }\n",
    "        },\n",
    "    }\n",
    "\n",
    "    # Create the index with the mapping\n",
    "    es_client.indices.create(index=index_name, body=index_mapping)"
   ]
  },
  {
   "cell_type": "code",
   "execution_count": 15,
   "metadata": {},
   "outputs": [
    {
     "data": {
      "application/vnd.jupyter.widget-view+json": {
       "model_id": "390326a986624eceb4fc869665bdd567",
       "version_major": 2,
       "version_minor": 0
      },
      "text/plain": [
       "  0%|          | 0/2752 [00:00<?, ?it/s]"
      ]
     },
     "metadata": {},
     "output_type": "display_data"
    }
   ],
   "source": [
    "for doc in tqdm(documents):\n",
    "    es_client.index(index=index_name, document=doc)"
   ]
  },
  {
   "cell_type": "code",
   "execution_count": 8,
   "metadata": {},
   "outputs": [],
   "source": [
    "def build_prompt_api(query, search_re):\n",
    "    prompt_template = \"\"\"\n",
    "You are a highly empathetic and supportive mental health counseling assistant. Your task is to assist the PATIENT by providing detailed, thoughtful, and compassionate responses solely based on the CONTEXT from the Mental Health Counseling Conversations database.\n",
    "\n",
    "### Guidelines:\n",
    "1. **Always use information explicitly found in the CONTEXT when responding to the PATIENT.**  \n",
    "   - Even if the CONTEXT isn't directly aligned, synthesize any insights that might be relevant or helpful to the patient's situation.  \n",
    "2. **If the CONTEXT contains multiple examples, leverage as many as necessary** to craft a comprehensive, empathetic response.  \n",
    "3. Write your response as a **single, cohesive paragraph** in the **first-person singular** perspective (e.g., \"I understand that...\") and answer like a human being.\n",
    "4. Maintain a supportive and conversational tone — be understanding, empathetic, and encouraging.\n",
    "5. Provide thoughtful, comprehensive answers. Avoid short or superficial responses.  \n",
    "6. **Use the response \"I'm sorry, I don't have enough information to answer that right now.\" ONLY if the CONTEXT truly lacks sufficient information.**\n",
    "   - If the CONTEXT contains any helpful insights, you must provide a response.\n",
    "\n",
    "CONTEXT from Mental Health Counseling Conversations database:\n",
    "{context}\n",
    "\n",
    "### Example Response Format:\n",
    "Response: <Your detailed answer here>\n",
    "\n",
    "PATIENT: {question}\n",
    "\"\"\".strip()\n",
    "    context = \"\"\n",
    "\n",
    "    for doc in search_re:\n",
    "        source = doc.get(\"_source\", {})\n",
    "        context += (\n",
    "            f\"Database Patient: {source.get('Context', 'N/A')}\\n\"\n",
    "            f\"Database Response: {source.get('Response', 'N/A')}\\n\\n\"\n",
    "        )\n",
    "\n",
    "    prompt = prompt_template.format(question=query, context=context).strip()\n",
    "    return prompt"
   ]
  },
  {
   "cell_type": "code",
   "execution_count": 9,
   "metadata": {},
   "outputs": [],
   "source": [
    "def llm_api(prompt):\n",
    "    response = client.chat.completions.create(\n",
    "        model=\"gpt-4o-mini\", messages=[{\"role\": \"user\", \"content\": prompt}]\n",
    "    )\n",
    "\n",
    "    return response.choices[0].message.content"
   ]
  },
  {
   "cell_type": "code",
   "execution_count": 10,
   "metadata": {},
   "outputs": [],
   "source": [
    "def rag_api(query):\n",
    "    search_query = {\n",
    "        \"size\": 5,\n",
    "        \"query\": {\n",
    "            \"bool\": {\n",
    "                \"must\": {\n",
    "                    \"multi_match\": {\n",
    "                        \"query\": query,\n",
    "                        \"fields\": [\"Context^2\", \"Response\"],\n",
    "                        \"type\": \"most_fields\",\n",
    "                    }\n",
    "                }\n",
    "            }\n",
    "        },\n",
    "    }\n",
    "\n",
    "    response = es_client.search(index=index_name, body=search_query)\n",
    "    search_re = response[\"hits\"][\"hits\"]\n",
    "    prompt = build_prompt_api(query, search_re)\n",
    "    answer = llm_api(prompt)\n",
    "    print(prompt)\n",
    "    print(\"\")\n",
    "    print(\"-\" * 40)\n",
    "    print(\"\")\n",
    "    return answer"
   ]
  },
  {
   "cell_type": "code",
   "execution_count": 11,
   "metadata": {},
   "outputs": [
    {
     "name": "stdout",
     "output_type": "stream",
     "text": [
      "You are a highly empathetic and supportive mental health counseling assistant. Your task is to assist the PATIENT by providing detailed, thoughtful, and compassionate responses solely based on the CONTEXT from the Mental Health Counseling Conversations database.\n",
      "\n",
      "### Guidelines:\n",
      "1. **Always use information explicitly found in the CONTEXT when responding to the PATIENT.**  \n",
      "   - Even if the CONTEXT isn't directly aligned, synthesize any insights that might be relevant or helpful to the patient's situation.  \n",
      "2. **If the CONTEXT contains multiple examples, leverage as many as necessary** to craft a comprehensive, empathetic response.  \n",
      "3. Write your response as a **single, cohesive paragraph** in the **first-person singular** perspective (e.g., \"I understand that...\") and answer like a human being.\n",
      "4. Maintain a supportive and conversational tone — be understanding, empathetic, and encouraging.\n",
      "5. Provide thoughtful, comprehensive answers. Avoid short or superficial responses.  \n",
      "6. **Use the response \"I'm sorry, I don't have enough information to answer that right now.\" ONLY if the CONTEXT truly lacks sufficient information.**\n",
      "   - If the CONTEXT contains any helpful insights, you must provide a response.\n",
      "\n",
      "CONTEXT from Mental Health Counseling Conversations database:\n",
      "Database Patient: In the past year, two of my best and only close friends moved to different states. Now I have nobody to hang out with. I'm always alone, and I honestly haven't hung out with anyone since they left. I'm super lonely. What should I do to make new friends? Because they moved and I have no friends now, I think I'm falling into a depression or something. I just need help.\n",
      "Database Response: Definitely it is sad to lose friends who are a regular part of daily life.How did you meet the two friends who just moved away?   Its possible that you could look for similar situations and see if anyone catches your interest to know as a friend.Keeping in mind that friendship is based on trust and common interests, and that these qualities require time to observe and develop, think of what you can do to keep happy while these paths unfold.In addition to being open to meeting new friends, involve yourself in projects from which you'll feel satisfied by your own results.\n",
      "\n",
      "Database Patient: In the last ten months, I've been kicked out, moved around three times, worked many jobs, stopped school to make money, had dad and mom get sick, was cheated on while pregnant, lost my baby, had relationship issues, and was betrayed. I can't get a job. I have no friends. I feel lonely and isolated. I've been dealing with all this by myself.\n",
      "Database Response: One thing that may help is to focus on small things that you do have control over. If you can hold onto that sense of having control over what you wear or what you choose to eat or where you go during the day, this may help you be able to look at what is currently most important for you and consider different choices. For example, you say you can't get a job, but I wonder if you could work with and local agencies to help you find a job, like Career Link. You say you have no friends currently. Are there any previous friends that you can get back in contact with?You mentioned that you have no friends. Is there anyone in your life that you can talk with, even if it's not someone that you consider a closest friend?\n",
      "\n",
      "Database Patient: I loved him more than anything. He passed away on our anniversary which was also the day I was going to apply for our apartment. I'm not handling it well. I moved to a new town and started a new life but nothing helps.\n",
      "Database Response: Grief is unpredictable and does not fit into rules and stereotypes. Everybody grieves differently, react in their own ways. There can be no expectations about how long, how hard, how easy it will be. Furthermore there is no way around it. No matter how much we may want to escape the pain and accelerate the process by doing all the 'right' things we have been told will help with our bereavement, there is only one way: through...The more we allow the pain to go through us, experience it, accept it, acknowledge it, make peace with it, the more we will heal. Grief comes in waves but can also feel like a rollercoaster. At first the waves feel like tsunamis, with time they become smaller and more spaced out. Yet every time they catch us by surprise. All the 'firsts without them' after a loved one has passed away, every anniversary, birthday, holiday, are all difficult times.You can not force grief to go away, to heal the wound faster than it needs to take. What you can do though is ride the wave. Go with the flow. Accept the pain. Express it. Talk to your loved one that has passed away. Express your emotions, every single one of them, both positive and negative. Write down in your journal. Take good care of your body, your nutrition, your rest. Grief is very taxing on the body too yet we disregard that. Read inspiring books, surround yourself with beauty and things that soothe your soul. Be brave and be open to the world out there, be vulnerable with pride. Try new things you never dared try before. Meet new people. Travel. Hang out with close friends. Ask for help when you need it. Be kind and gentle to yourself. The more you chase and wait for happiness, the more it will elude you. The more you stay bravely in your present and do the best you can, being loving to yourself, honest about your feelings and do not try to escape grief, the sooner it will loosen up it's claws and allow you to feel relief and finally heal.One thing is for certain, happiness will be there to it's appointment and it will be when you least expect it!Keep the faith and keep walking, nothing can remain the same forever. The only certainty is change!\n",
      "\n",
      "Database Patient: I'm going through some things with my feelings and myself. I barely sleep and I do nothing but think about how I'm worthless and how I shouldn't be here.\n",
      "   I've never tried or contemplated suicide. I've always wanted to fix my issues, but I never get around to it.\n",
      "   How can I change my feeling of being worthless to everyone?\n",
      "Database Response: That is intense. Depression is a liar. Sometimes depression places these glasses over our eyes, these dark sunglasses that change how we see things. Depression tells us things like \"you're worthless\" \"no one likes you\" \"don't worry about doing anything.\" And it is so easy for us to listen and to be tricked into thinking that just because we feel something means it is true. Please know that even if you are feeling worthless right now, that doesn't mean you are worthless.The first step to working through this is recognizing what is going on. Recognizing when depression is telling you the same story (ie; being worthless) with different words (ie worthless here, worthless there) and making an effort to talk back. While I can not give you a diagnosis of depression, reading what you are going through, it sounds like you might need help to get back on track. Seeing a counselor can open an entirely new option up wherein someone who is not involved in your life can help you without judgement and with an objective perspective. This can do wonders in unwrapping these kinds of thoughts. Wishing you the absolute best!\n",
      "\n",
      "Database Patient: I live a normal life. I have tons of friends and family, but I feel lonely.\n",
      "Database Response: This may be happening because you and the others are not connected to each other on a level which reaches your emotions.Loneliness may show the absence of feeling a variety of emotions when you are among others.How many friends you have doesn't affect whether you and someone else feel emotionally engaged with one another.Consider if you feel like concentrating your friendship on more intensively sharing your feelings with a few of your friends.This may lead to fewer friends who are also more meaningful to you and your feeling a decrease of loneliness.\n",
      "\n",
      "\n",
      "\n",
      "### Example Response Format:\n",
      "Response: <Your detailed answer here>\n",
      "\n",
      "PATIENT: I moved to a new city and I'm feeling really lonely. I don't know how to make friends here.\n",
      "\n",
      "----------------------------------------\n",
      "\n",
      "Response: I understand that moving to a new city can be incredibly isolating, especially when you're trying to establish new connections. It’s completely normal to feel lonely during this transition, and I want you to know that you're not alone in these feelings. One approach you might consider is to seek out activities or groups that align with your interests, as these can be excellent avenues for meeting like-minded individuals. Think about the ways you’ve formed friendships in the past; often, they are built on shared experiences or common interests. This could mean joining clubs, volunteering, or attending local events where you can meet new people in a more organic way. Remember, forming new friendships takes time, and it's okay to start small. As you put yourself out there and engage with your new surroundings, be patient with yourself and focus on enjoying the process of meeting new people. Aim to create meaningful connections, even if it means having fewer friends who you can share your thoughts and feelings with deeply. Take care of yourself, and remember that with each step, you're moving closer to feeling more connected.\n"
     ]
    }
   ],
   "source": [
    "query = \"I moved to a new city and I'm feeling really lonely. I don't know how to make friends here.\"\n",
    "print(rag_api(query))"
   ]
  }
 ],
 "metadata": {
  "kernelspec": {
   "display_name": "llm-zoomcamp-project",
   "language": "python",
   "name": "python3"
  },
  "language_info": {
   "codemirror_mode": {
    "name": "ipython",
    "version": 3
   },
   "file_extension": ".py",
   "mimetype": "text/x-python",
   "name": "python",
   "nbconvert_exporter": "python",
   "pygments_lexer": "ipython3",
   "version": "3.10.15"
  }
 },
 "nbformat": 4,
 "nbformat_minor": 2
}
