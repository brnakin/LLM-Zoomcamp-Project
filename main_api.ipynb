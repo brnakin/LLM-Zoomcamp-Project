{
 "cells": [
  {
   "cell_type": "code",
   "execution_count": 1,
   "metadata": {},
   "outputs": [],
   "source": [
    "import pandas as pd\n",
    "import re\n",
    "from openai import OpenAI\n",
    "from tqdm.auto import tqdm\n",
    "from elasticsearch import Elasticsearch"
   ]
  },
  {
   "cell_type": "code",
   "execution_count": 2,
   "metadata": {},
   "outputs": [],
   "source": [
    "from dotenv import load_dotenv\n",
    "import os\n",
    "\n",
    "load_dotenv()\n",
    "open_ai_api_key = os.getenv(\"OPEN_AI_API_KEY\")"
   ]
  },
  {
   "cell_type": "code",
   "execution_count": 3,
   "metadata": {},
   "outputs": [],
   "source": [
    "client = OpenAI(api_key=open_ai_api_key)"
   ]
  },
  {
   "cell_type": "code",
   "execution_count": 4,
   "metadata": {},
   "outputs": [],
   "source": [
    "from datasets import load_dataset\n",
    "\n",
    "dataset = load_dataset(\"Amod/mental_health_counseling_conversations\")"
   ]
  },
  {
   "cell_type": "code",
   "execution_count": 5,
   "metadata": {},
   "outputs": [],
   "source": [
    "# Access the 'train' split of the dataset\n",
    "train_dataset = dataset[\"train\"]\n",
    "\n",
    "# Convert to a Pandas DataFrame\n",
    "df = pd.DataFrame(train_dataset)\n",
    "\n",
    "\n",
    "# Define a cleaning function to apply to the context and response columns\n",
    "def clean_text(text):\n",
    "    # Convert text to lowercase\n",
    "    text = text.lower()\n",
    "    # Remove newline characters, non-breaking spaces, and extra spaces\n",
    "    text = text.replace(\"\\n\", \"\").replace(\"\\xa0\", \"\")\n",
    "    # Replace multiple spaces between sentences with a single space\n",
    "    text = re.sub(r\"\\s+\", \" \", text)\n",
    "    # Remove any special characters except comma, dot, parentheses, and space\n",
    "    text = re.sub(r\"[^a-z0-9.,() ]+\", \"\", text)\n",
    "    # Strip leading/trailing spaces\n",
    "    text = text.strip()\n",
    "\n",
    "    return text\n",
    "\n",
    "\n",
    "# Apply the cleaning function to both the 'Context' and 'Response' columns\n",
    "df[\"Context\"] = df[\"Context\"].apply(clean_text)\n",
    "df[\"Response\"] = df[\"Response\"].apply(clean_text)\n",
    "\n",
    "# Remove duplicates based on 'Context' and 'Response' columns\n",
    "df = df.drop_duplicates(subset=[\"Context\", \"Response\"]).reset_index(drop=True)\n",
    "\n",
    "# Convert the DataFrame to a list of dictionaries\n",
    "documents = df.to_dict(orient=\"records\")"
   ]
  },
  {
   "cell_type": "code",
   "execution_count": 6,
   "metadata": {},
   "outputs": [
    {
     "data": {
      "text/plain": [
       "ObjectApiResponse({'name': '4667e37c0da8', 'cluster_name': 'docker-cluster', 'cluster_uuid': 'hNUOD6s_TvWzBpt-q9kmog', 'version': {'number': '8.4.3', 'build_flavor': 'default', 'build_type': 'docker', 'build_hash': '42f05b9372a9a4a470db3b52817899b99a76ee73', 'build_date': '2022-10-04T07:17:24.662462378Z', 'build_snapshot': False, 'lucene_version': '9.3.0', 'minimum_wire_compatibility_version': '7.17.0', 'minimum_index_compatibility_version': '7.0.0'}, 'tagline': 'You Know, for Search'})"
      ]
     },
     "execution_count": 6,
     "metadata": {},
     "output_type": "execute_result"
    }
   ],
   "source": [
    "es_client = Elasticsearch(\"http://localhost:9200\")\n",
    "\n",
    "es_client.info()"
   ]
  },
  {
   "cell_type": "code",
   "execution_count": 7,
   "metadata": {},
   "outputs": [],
   "source": [
    "index_name = \"conversations2\""
   ]
  },
  {
   "cell_type": "code",
   "execution_count": 8,
   "metadata": {},
   "outputs": [
    {
     "data": {
      "text/plain": [
       "ObjectApiResponse({'conversations': {'aliases': {}}})"
      ]
     },
     "execution_count": 8,
     "metadata": {},
     "output_type": "execute_result"
    }
   ],
   "source": [
    "# To list all the indices\n",
    "\n",
    "es_client.indices.get_alias()"
   ]
  },
  {
   "cell_type": "code",
   "execution_count": 9,
   "metadata": {},
   "outputs": [
    {
     "ename": "NotFoundError",
     "evalue": "NotFoundError(404, 'index_not_found_exception', 'no such index [conversations2]', conversations2, index_or_alias)",
     "output_type": "error",
     "traceback": [
      "\u001b[0;31m---------------------------------------------------------------------------\u001b[0m",
      "\u001b[0;31mNotFoundError\u001b[0m                             Traceback (most recent call last)",
      "Cell \u001b[0;32mIn[9], line 1\u001b[0m\n\u001b[0;32m----> 1\u001b[0m resp \u001b[38;5;241m=\u001b[39m \u001b[43mes_client\u001b[49m\u001b[38;5;241;43m.\u001b[39;49m\u001b[43mindices\u001b[49m\u001b[38;5;241;43m.\u001b[39;49m\u001b[43mdelete\u001b[49m\u001b[43m(\u001b[49m\u001b[43mindex\u001b[49m\u001b[38;5;241;43m=\u001b[39;49m\u001b[43mindex_name\u001b[49m\u001b[43m)\u001b[49m\n",
      "File \u001b[0;32m~/.local/lib/python3.10/site-packages/elasticsearch/_sync/client/utils.py:446\u001b[0m, in \u001b[0;36m_rewrite_parameters.<locals>.wrapper.<locals>.wrapped\u001b[0;34m(*args, **kwargs)\u001b[0m\n\u001b[1;32m    443\u001b[0m         \u001b[38;5;28;01mexcept\u001b[39;00m \u001b[38;5;167;01mKeyError\u001b[39;00m:\n\u001b[1;32m    444\u001b[0m             \u001b[38;5;28;01mpass\u001b[39;00m\n\u001b[0;32m--> 446\u001b[0m \u001b[38;5;28;01mreturn\u001b[39;00m \u001b[43mapi\u001b[49m\u001b[43m(\u001b[49m\u001b[38;5;241;43m*\u001b[39;49m\u001b[43margs\u001b[49m\u001b[43m,\u001b[49m\u001b[43m \u001b[49m\u001b[38;5;241;43m*\u001b[39;49m\u001b[38;5;241;43m*\u001b[39;49m\u001b[43mkwargs\u001b[49m\u001b[43m)\u001b[49m\n",
      "File \u001b[0;32m~/.local/lib/python3.10/site-packages/elasticsearch/_sync/client/indices.py:727\u001b[0m, in \u001b[0;36mIndicesClient.delete\u001b[0;34m(self, index, allow_no_indices, error_trace, expand_wildcards, filter_path, human, ignore_unavailable, master_timeout, pretty, timeout)\u001b[0m\n\u001b[1;32m    725\u001b[0m     __query[\u001b[38;5;124m\"\u001b[39m\u001b[38;5;124mtimeout\u001b[39m\u001b[38;5;124m\"\u001b[39m] \u001b[38;5;241m=\u001b[39m timeout\n\u001b[1;32m    726\u001b[0m __headers \u001b[38;5;241m=\u001b[39m {\u001b[38;5;124m\"\u001b[39m\u001b[38;5;124maccept\u001b[39m\u001b[38;5;124m\"\u001b[39m: \u001b[38;5;124m\"\u001b[39m\u001b[38;5;124mapplication/json\u001b[39m\u001b[38;5;124m\"\u001b[39m}\n\u001b[0;32m--> 727\u001b[0m \u001b[38;5;28;01mreturn\u001b[39;00m \u001b[38;5;28;43mself\u001b[39;49m\u001b[38;5;241;43m.\u001b[39;49m\u001b[43mperform_request\u001b[49m\u001b[43m(\u001b[49m\u001b[43m  \u001b[49m\u001b[38;5;66;43;03m# type: ignore[return-value]\u001b[39;49;00m\n\u001b[1;32m    728\u001b[0m \u001b[43m    \u001b[49m\u001b[38;5;124;43m\"\u001b[39;49m\u001b[38;5;124;43mDELETE\u001b[39;49m\u001b[38;5;124;43m\"\u001b[39;49m\u001b[43m,\u001b[49m\n\u001b[1;32m    729\u001b[0m \u001b[43m    \u001b[49m\u001b[43m__path\u001b[49m\u001b[43m,\u001b[49m\n\u001b[1;32m    730\u001b[0m \u001b[43m    \u001b[49m\u001b[43mparams\u001b[49m\u001b[38;5;241;43m=\u001b[39;49m\u001b[43m__query\u001b[49m\u001b[43m,\u001b[49m\n\u001b[1;32m    731\u001b[0m \u001b[43m    \u001b[49m\u001b[43mheaders\u001b[49m\u001b[38;5;241;43m=\u001b[39;49m\u001b[43m__headers\u001b[49m\u001b[43m,\u001b[49m\n\u001b[1;32m    732\u001b[0m \u001b[43m    \u001b[49m\u001b[43mendpoint_id\u001b[49m\u001b[38;5;241;43m=\u001b[39;49m\u001b[38;5;124;43m\"\u001b[39;49m\u001b[38;5;124;43mindices.delete\u001b[39;49m\u001b[38;5;124;43m\"\u001b[39;49m\u001b[43m,\u001b[49m\n\u001b[1;32m    733\u001b[0m \u001b[43m    \u001b[49m\u001b[43mpath_parts\u001b[49m\u001b[38;5;241;43m=\u001b[39;49m\u001b[43m__path_parts\u001b[49m\u001b[43m,\u001b[49m\n\u001b[1;32m    734\u001b[0m \u001b[43m\u001b[49m\u001b[43m)\u001b[49m\n",
      "File \u001b[0;32m~/.local/lib/python3.10/site-packages/elasticsearch/_sync/client/_base.py:423\u001b[0m, in \u001b[0;36mNamespacedClient.perform_request\u001b[0;34m(self, method, path, params, headers, body, endpoint_id, path_parts)\u001b[0m\n\u001b[1;32m    410\u001b[0m \u001b[38;5;28;01mdef\u001b[39;00m \u001b[38;5;21mperform_request\u001b[39m(\n\u001b[1;32m    411\u001b[0m     \u001b[38;5;28mself\u001b[39m,\n\u001b[1;32m    412\u001b[0m     method: \u001b[38;5;28mstr\u001b[39m,\n\u001b[0;32m   (...)\u001b[0m\n\u001b[1;32m    421\u001b[0m     \u001b[38;5;66;03m# Use the internal clients .perform_request() implementation\u001b[39;00m\n\u001b[1;32m    422\u001b[0m     \u001b[38;5;66;03m# so we take advantage of their transport options.\u001b[39;00m\n\u001b[0;32m--> 423\u001b[0m     \u001b[38;5;28;01mreturn\u001b[39;00m \u001b[38;5;28;43mself\u001b[39;49m\u001b[38;5;241;43m.\u001b[39;49m\u001b[43m_client\u001b[49m\u001b[38;5;241;43m.\u001b[39;49m\u001b[43mperform_request\u001b[49m\u001b[43m(\u001b[49m\n\u001b[1;32m    424\u001b[0m \u001b[43m        \u001b[49m\u001b[43mmethod\u001b[49m\u001b[43m,\u001b[49m\n\u001b[1;32m    425\u001b[0m \u001b[43m        \u001b[49m\u001b[43mpath\u001b[49m\u001b[43m,\u001b[49m\n\u001b[1;32m    426\u001b[0m \u001b[43m        \u001b[49m\u001b[43mparams\u001b[49m\u001b[38;5;241;43m=\u001b[39;49m\u001b[43mparams\u001b[49m\u001b[43m,\u001b[49m\n\u001b[1;32m    427\u001b[0m \u001b[43m        \u001b[49m\u001b[43mheaders\u001b[49m\u001b[38;5;241;43m=\u001b[39;49m\u001b[43mheaders\u001b[49m\u001b[43m,\u001b[49m\n\u001b[1;32m    428\u001b[0m \u001b[43m        \u001b[49m\u001b[43mbody\u001b[49m\u001b[38;5;241;43m=\u001b[39;49m\u001b[43mbody\u001b[49m\u001b[43m,\u001b[49m\n\u001b[1;32m    429\u001b[0m \u001b[43m        \u001b[49m\u001b[43mendpoint_id\u001b[49m\u001b[38;5;241;43m=\u001b[39;49m\u001b[43mendpoint_id\u001b[49m\u001b[43m,\u001b[49m\n\u001b[1;32m    430\u001b[0m \u001b[43m        \u001b[49m\u001b[43mpath_parts\u001b[49m\u001b[38;5;241;43m=\u001b[39;49m\u001b[43mpath_parts\u001b[49m\u001b[43m,\u001b[49m\n\u001b[1;32m    431\u001b[0m \u001b[43m    \u001b[49m\u001b[43m)\u001b[49m\n",
      "File \u001b[0;32m~/.local/lib/python3.10/site-packages/elasticsearch/_sync/client/_base.py:271\u001b[0m, in \u001b[0;36mBaseClient.perform_request\u001b[0;34m(self, method, path, params, headers, body, endpoint_id, path_parts)\u001b[0m\n\u001b[1;32m    255\u001b[0m \u001b[38;5;28;01mdef\u001b[39;00m \u001b[38;5;21mperform_request\u001b[39m(\n\u001b[1;32m    256\u001b[0m     \u001b[38;5;28mself\u001b[39m,\n\u001b[1;32m    257\u001b[0m     method: \u001b[38;5;28mstr\u001b[39m,\n\u001b[0;32m   (...)\u001b[0m\n\u001b[1;32m    264\u001b[0m     path_parts: Optional[Mapping[\u001b[38;5;28mstr\u001b[39m, Any]] \u001b[38;5;241m=\u001b[39m \u001b[38;5;28;01mNone\u001b[39;00m,\n\u001b[1;32m    265\u001b[0m ) \u001b[38;5;241m-\u001b[39m\u001b[38;5;241m>\u001b[39m ApiResponse[Any]:\n\u001b[1;32m    266\u001b[0m     \u001b[38;5;28;01mwith\u001b[39;00m \u001b[38;5;28mself\u001b[39m\u001b[38;5;241m.\u001b[39m_otel\u001b[38;5;241m.\u001b[39mspan(\n\u001b[1;32m    267\u001b[0m         method,\n\u001b[1;32m    268\u001b[0m         endpoint_id\u001b[38;5;241m=\u001b[39mendpoint_id,\n\u001b[1;32m    269\u001b[0m         path_parts\u001b[38;5;241m=\u001b[39mpath_parts \u001b[38;5;129;01mor\u001b[39;00m {},\n\u001b[1;32m    270\u001b[0m     ) \u001b[38;5;28;01mas\u001b[39;00m otel_span:\n\u001b[0;32m--> 271\u001b[0m         response \u001b[38;5;241m=\u001b[39m \u001b[38;5;28;43mself\u001b[39;49m\u001b[38;5;241;43m.\u001b[39;49m\u001b[43m_perform_request\u001b[49m\u001b[43m(\u001b[49m\n\u001b[1;32m    272\u001b[0m \u001b[43m            \u001b[49m\u001b[43mmethod\u001b[49m\u001b[43m,\u001b[49m\n\u001b[1;32m    273\u001b[0m \u001b[43m            \u001b[49m\u001b[43mpath\u001b[49m\u001b[43m,\u001b[49m\n\u001b[1;32m    274\u001b[0m \u001b[43m            \u001b[49m\u001b[43mparams\u001b[49m\u001b[38;5;241;43m=\u001b[39;49m\u001b[43mparams\u001b[49m\u001b[43m,\u001b[49m\n\u001b[1;32m    275\u001b[0m \u001b[43m            \u001b[49m\u001b[43mheaders\u001b[49m\u001b[38;5;241;43m=\u001b[39;49m\u001b[43mheaders\u001b[49m\u001b[43m,\u001b[49m\n\u001b[1;32m    276\u001b[0m \u001b[43m            \u001b[49m\u001b[43mbody\u001b[49m\u001b[38;5;241;43m=\u001b[39;49m\u001b[43mbody\u001b[49m\u001b[43m,\u001b[49m\n\u001b[1;32m    277\u001b[0m \u001b[43m            \u001b[49m\u001b[43motel_span\u001b[49m\u001b[38;5;241;43m=\u001b[39;49m\u001b[43motel_span\u001b[49m\u001b[43m,\u001b[49m\n\u001b[1;32m    278\u001b[0m \u001b[43m        \u001b[49m\u001b[43m)\u001b[49m\n\u001b[1;32m    279\u001b[0m         otel_span\u001b[38;5;241m.\u001b[39mset_elastic_cloud_metadata(response\u001b[38;5;241m.\u001b[39mmeta\u001b[38;5;241m.\u001b[39mheaders)\n\u001b[1;32m    280\u001b[0m         \u001b[38;5;28;01mreturn\u001b[39;00m response\n",
      "File \u001b[0;32m~/.local/lib/python3.10/site-packages/elasticsearch/_sync/client/_base.py:352\u001b[0m, in \u001b[0;36mBaseClient._perform_request\u001b[0;34m(self, method, path, params, headers, body, otel_span)\u001b[0m\n\u001b[1;32m    349\u001b[0m         \u001b[38;5;28;01mexcept\u001b[39;00m (\u001b[38;5;167;01mValueError\u001b[39;00m, \u001b[38;5;167;01mKeyError\u001b[39;00m, \u001b[38;5;167;01mTypeError\u001b[39;00m):\n\u001b[1;32m    350\u001b[0m             \u001b[38;5;28;01mpass\u001b[39;00m\n\u001b[0;32m--> 352\u001b[0m     \u001b[38;5;28;01mraise\u001b[39;00m HTTP_EXCEPTIONS\u001b[38;5;241m.\u001b[39mget(meta\u001b[38;5;241m.\u001b[39mstatus, ApiError)(\n\u001b[1;32m    353\u001b[0m         message\u001b[38;5;241m=\u001b[39mmessage, meta\u001b[38;5;241m=\u001b[39mmeta, body\u001b[38;5;241m=\u001b[39mresp_body\n\u001b[1;32m    354\u001b[0m     )\n\u001b[1;32m    356\u001b[0m \u001b[38;5;66;03m# 'X-Elastic-Product: Elasticsearch' should be on every 2XX response.\u001b[39;00m\n\u001b[1;32m    357\u001b[0m \u001b[38;5;28;01mif\u001b[39;00m \u001b[38;5;129;01mnot\u001b[39;00m \u001b[38;5;28mself\u001b[39m\u001b[38;5;241m.\u001b[39m_verified_elasticsearch:\n\u001b[1;32m    358\u001b[0m     \u001b[38;5;66;03m# If the header is set we mark the server as verified.\u001b[39;00m\n",
      "\u001b[0;31mNotFoundError\u001b[0m: NotFoundError(404, 'index_not_found_exception', 'no such index [conversations2]', conversations2, index_or_alias)"
     ]
    }
   ],
   "source": [
    "resp = es_client.indices.delete(index=index_name)"
   ]
  },
  {
   "cell_type": "code",
   "execution_count": 10,
   "metadata": {},
   "outputs": [
    {
     "data": {
      "text/plain": [
       "ObjectApiResponse({'acknowledged': True, 'shards_acknowledged': True, 'index': 'conversations2'})"
      ]
     },
     "execution_count": 10,
     "metadata": {},
     "output_type": "execute_result"
    }
   ],
   "source": [
    "index_settings = {\n",
    "    \"settings\": {\"number_of_shards\": 1, \"number_of_replicas\": 0},\n",
    "    \"mappings\": {\n",
    "        \"properties\": {\n",
    "            \"Context\": {\"type\": \"text\"},\n",
    "            \"Response\": {\"type\": \"text\"},\n",
    "        }\n",
    "    },\n",
    "}\n",
    "\n",
    "es_client.indices.create(index=index_name, body=index_settings)"
   ]
  },
  {
   "cell_type": "code",
   "execution_count": 11,
   "metadata": {},
   "outputs": [
    {
     "data": {
      "text/plain": [
       "ObjectApiResponse({'conversations2': {'aliases': {}, 'mappings': {'properties': {'Context': {'type': 'text'}, 'Response': {'type': 'text'}}}, 'settings': {'index': {'routing': {'allocation': {'include': {'_tier_preference': 'data_content'}}}, 'number_of_shards': '1', 'provided_name': 'conversations2', 'creation_date': '1739032076585', 'number_of_replicas': '0', 'uuid': 'GAHLcUJ4ScucqvJ0SllWug', 'version': {'created': '8040399'}}}}})"
      ]
     },
     "execution_count": 11,
     "metadata": {},
     "output_type": "execute_result"
    }
   ],
   "source": [
    "es_client.indices.get(index=index_name)"
   ]
  },
  {
   "cell_type": "code",
   "execution_count": 12,
   "metadata": {},
   "outputs": [
    {
     "data": {
      "application/vnd.jupyter.widget-view+json": {
       "model_id": "f49b3d2760c34129bea831ffe8336e93",
       "version_major": 2,
       "version_minor": 0
      },
      "text/plain": [
       "  0%|          | 0/2076 [00:00<?, ?it/s]"
      ]
     },
     "metadata": {},
     "output_type": "display_data"
    }
   ],
   "source": [
    "for doc in tqdm(documents):\n",
    "    es_client.index(index=index_name, document=doc)"
   ]
  },
  {
   "cell_type": "code",
   "execution_count": 13,
   "metadata": {},
   "outputs": [],
   "source": [
    "def build_prompt_api(query, search_re):\n",
    "    prompt_template = \"\"\"\n",
    "You are a highly empathetic and supportive mental health counseling assistant. Your task is to assist the PATIENT by providing detailed, thoughtful, and compassionate responses solely based on the CONTEXT from the Mental Health Counseling Conversations database.\n",
    "\n",
    "### Guidelines:\n",
    "1. **Always use information explicitly found in the CONTEXT when responding to the PATIENT.**  \n",
    "   - Even if the CONTEXT isn't directly aligned, synthesize any insights that might be relevant or helpful to the patient's situation.  \n",
    "2. **If the CONTEXT contains multiple examples, leverage as many as necessary** to craft a comprehensive, empathetic response.  \n",
    "3. Write your response as a **single, cohesive paragraph** in the **first-person singular** perspective (e.g., \"I understand that...\").\n",
    "4. Maintain a supportive and conversational tone — be understanding, empathetic, and encouraging.\n",
    "5. Provide thoughtful, comprehensive answers. Avoid short or superficial responses.  \n",
    "6. **Use the response \"I'm sorry, I don't have enough information to answer that right now.\" ONLY if the CONTEXT truly lacks sufficient information.**\n",
    "   - If the CONTEXT contains any helpful insights, you must provide a response.\n",
    "\n",
    "CONTEXT from Mental Health Counseling Conversations database:\n",
    "{context}\n",
    "\n",
    "### Example Response Format:\n",
    "Response: <Your detailed answer here>\n",
    "\n",
    "PATIENT: {question}\n",
    "\"\"\".strip()\n",
    "    context = \"\"\n",
    "\n",
    "    for doc in search_re:\n",
    "        source = doc.get(\"_source\", {})\n",
    "        context += (\n",
    "            f\"Database Patient: {source.get('Context', 'N/A')}\\n\"\n",
    "            f\"Database Response: {source.get('Response', 'N/A')}\\n\\n\"\n",
    "        )\n",
    "\n",
    "    prompt = prompt_template.format(question=query, context=context).strip()\n",
    "    return prompt"
   ]
  },
  {
   "cell_type": "code",
   "execution_count": 14,
   "metadata": {},
   "outputs": [],
   "source": [
    "def llm_api(prompt):\n",
    "    response = client.chat.completions.create(\n",
    "        model=\"gpt-4o-mini\", messages=[{\"role\": \"user\", \"content\": prompt}]\n",
    "    )\n",
    "\n",
    "    return response.choices[0].message.content"
   ]
  },
  {
   "cell_type": "code",
   "execution_count": 15,
   "metadata": {},
   "outputs": [],
   "source": [
    "def rag_api(query):\n",
    "    search_query = {\n",
    "        \"size\": 5,\n",
    "        \"query\": {\n",
    "            \"bool\": {\n",
    "                \"must\": {\n",
    "                    \"multi_match\": {\n",
    "                        \"query\": query,\n",
    "                        \"fields\": [\"Context^2\", \"Response\"],\n",
    "                        \"type\": \"most_fields\",\n",
    "                    }\n",
    "                }\n",
    "            }\n",
    "        },\n",
    "    }\n",
    "\n",
    "    response = es_client.search(index=index_name, body=search_query)\n",
    "    search_re = response[\"hits\"][\"hits\"]\n",
    "    prompt = build_prompt_api(query, search_re)\n",
    "    answer = llm_api(prompt)\n",
    "    print(prompt)\n",
    "    print(\"\")\n",
    "    print(\"-\" * 40)\n",
    "    print(\"\")\n",
    "    return answer"
   ]
  },
  {
   "cell_type": "code",
   "execution_count": 16,
   "metadata": {},
   "outputs": [
    {
     "name": "stdout",
     "output_type": "stream",
     "text": [
      "You are a highly empathetic and supportive mental health counseling assistant. Your task is to assist the PATIENT by providing detailed, thoughtful, and compassionate responses solely based on the CONTEXT from the Mental Health Counseling Conversations database.\n",
      "\n",
      "### Guidelines:\n",
      "1. **Always use information explicitly found in the CONTEXT when responding to the PATIENT.**  \n",
      "   - Even if the CONTEXT isn't directly aligned, synthesize any insights that might be relevant or helpful to the patient's situation.  \n",
      "2. **If the CONTEXT contains multiple examples, leverage as many as necessary** to craft a comprehensive, empathetic response.  \n",
      "3. Write your response as a **single, cohesive paragraph** in the **first-person singular** perspective (e.g., \"I understand that...\").\n",
      "4. Maintain a supportive and conversational tone — be understanding, empathetic, and encouraging.\n",
      "5. Provide thoughtful, comprehensive answers. Avoid short or superficial responses.  \n",
      "6. **Use the response \"I'm sorry, I don't have enough information to answer that right now.\" ONLY if the CONTEXT truly lacks sufficient information.**\n",
      "   - If the CONTEXT contains any helpful insights, you must provide a response.\n",
      "\n",
      "CONTEXT from Mental Health Counseling Conversations database:\n",
      "Database Patient: in the past year, two of my best and only close friends moved to different states. now i have nobody to hang out with. im always alone, and i honestly havent hung out with anyone since they left. im super lonely. what should i do to make new friends because they moved and i have no friends now, i think im falling into a depression or something. i just need help.\n",
      "Database Response: definitely it is sad to lose friends who are a regular part of daily life.how did you meet the two friends who just moved away its possible that you could look for similar situations and see if anyone catches your interest to know as a friend.keeping in mind that friendship is based on trust and common interests, and that these qualities require time to observe and develop, think of what you can do to keep happy while these paths unfold.in addition to being open to meeting new friends, involve yourself in projects from which youll feel satisfied by your own results.\n",
      "\n",
      "Database Patient: in the last ten months, ive been kicked out, moved around three times, worked many jobs, stopped school to make money, had dad and mom get sick, was cheated on while pregnant, lost my baby, had relationship issues, and was betrayed. i cant get a job. i have no friends. i feel lonely and isolated. ive been dealing with all this by myself.\n",
      "Database Response: one thing that may help is to focus on small things that you do have control over. if you can hold onto that sense of having control over what you wear or what you choose to eat or where you go during the day, this may help you be able to look at what is currently most important for you and consider different choices. for example, you say you cant get a job, but i wonder if you could work with and local agencies to help you find a job, like career link. you say you have no friends currently. are there any previous friends that you can get back in contact withyou mentioned that you have no friends. is there anyone in your life that you can talk with, even if its not someone that you consider a closest friend\n",
      "\n",
      "Database Patient: i live a normal life. i have tons of friends and family, but i feel lonely.\n",
      "Database Response: this may be happening because you and the others are not connected to each other on a level which reaches your emotions.loneliness may show the absence of feeling a variety of emotions when you are among others.how many friends you have doesnt affect whether you and someone else feel emotionally engaged with one another.consider if you feel like concentrating your friendship on more intensively sharing your feelings with a few of your friends.this may lead to fewer friends who are also more meaningful to you and your feeling a decrease of loneliness.\n",
      "\n",
      "Database Patient: i always see the worst end of things. my boyfriend and i arent talking, and i swear hes leaving me. i keep failing my road test, and i see my future crumble. i have no desire for friends. i pushed my best friend away after christmas, and i have no desire to fix it or make new friends. my aunt died, and i cry all the time, even if i burn my lunch.\n",
      "Database Response: i really love that youre taking responsibility for your pessimism here. theres a modern parable about two young brothers. one child is in a room full of every toy you could imagine, and hes miserable the other is in a room full of horse manure, and hes flinging it around with joy. so then someone comes and asks the first boy why hes so miserable, because he has so much. he says that hes missing the one toy that he really wants. then the brother is asked why hes so happy in a room full of manure, and he says with all this sht, theres gotta be a pony in here somewherehappiness is a state of mind, and i hear you saying that you used to be happy, so maybe this means you believe its possible. thats a wonderful start.research on depression shows us that it is very linked to pessimism. you say i always see the worst end of things. thats pessimism. life is like an elephant. if all you see is roughness, backup and walk around the view will change.the key to optimism is to build your ability to see the bad things in life as 1. temporary (this will pass. i know how to fix friendships), 2. specific (not involving the whole of your life), and 3. not your fault (tons of people fail road tests). on the flip side, it helps if we can see good things as 1. more permanent, 2. bleeding into other areas of our lives, and 3. something you created. not taking credit for good things and blaming yourself for the bad ones is typical especially of women.the feelings you are having are temporary youre in a slump and its a good time to sit down and look at how you can make the picture look different. i think you know how but you lack energy right now. if tackling this on your own isnt enough, a therapist can help you take that step back to look at the big picture and help you rebuild your natural resilience and capacity for joy. i wish you the best.\n",
      "\n",
      "Database Patient: i loved him more than anything. he passed away on our anniversary which was also the day i was going to apply for our apartment. im not handling it well. i moved to a new town and started a new life but nothing helps.\n",
      "Database Response: grief is unpredictable and does not fit into rules and stereotypes. everybody grieves differently, react in their own ways. there can be no expectations about how long, how hard, how easy it will be.furthermore there is no way around it. no matter how much we may want to escape the pain and accelerate the process by doing all the right things we have been told will help with our bereavement, there is only one way through...the more we allow the pain to go through us, experience it, accept it, acknowledge it, make peace with it, the more we will heal.grief comes in waves but can also feel like a rollercoaster. at first the waves feel like tsunamis, with time they become smaller and more spaced out. yet every time they catch us by surprise. all the firsts without them after a loved one has passed away, every anniversary, birthday, holiday, are all difficult times.you can not force grief to go away, to heal the wound faster than it needs to take. what you can do though is ride the wave. go with the flow. accept the pain. express it. talk to your loved one that has passed away. express your emotions, every single one of them, both positive and negative. write down in your journal. take good care of your body, your nutrition, your rest. grief is very taxing on the body too yet we disregard that.read inspiring books, surround yourself with beauty and things that soothe your soul. be brave and be open to the world out there, be vulnerable with pride. try new things you never dared try before. meet new people. travel. hang out with close friends. ask for help when you need it. be kind and gentle to yourself.the more you chase and wait for happiness, the more it will elude you. the more you stay bravely in your present and do the best you can, being loving to yourself, honest about your feelings and do not try to escape grief, the sooner it will loosen up its claws and allow you to feel relief and finally heal.one thing is for certain, happiness will be there to its appointment and it will be when you least expect itkeep the faith and keep walking, nothing can remain the same forever. the only certainty is change\n",
      "\n",
      "\n",
      "\n",
      "### Example Response Format:\n",
      "Response: <Your detailed answer here>\n",
      "\n",
      "PATIENT: I moved to a new city and I'm feeling really lonely. I don't know how to make friends here.\n",
      "\n",
      "----------------------------------------\n",
      "\n",
      "Response: I'm really sorry to hear that you're feeling lonely after your move to a new city; it's completely understandable to feel that way, especially when you're starting fresh and missing the connections you've had before. One approach you might consider is reflecting on how you met your old friends and looking for similar environments or communities where you could find new connections. It's important to be open to engaging in activities or hobbies that interest you, as they can be great ways to meet people who share those interests. Remember that building friendships takes time, and it’s okay to start small—perhaps reaching out to people in community groups or classes could lead to meaningful interactions. Additionally, while you are seeking new friends, consider focusing on what you can control in your daily life that brings you joy or satisfaction, whether that's immersing yourself in a new project or just taking care of yourself. This not only keeps you engaged but also sets a foundation for positive experiences that can naturally lead to new friendships as you gradually open up to others.\n"
     ]
    }
   ],
   "source": [
    "query = \"I moved to a new city and I'm feeling really lonely. I don't know how to make friends here.\"\n",
    "print(rag_api(query))"
   ]
  }
 ],
 "metadata": {
  "kernelspec": {
   "display_name": "llm-zoomcamp-project",
   "language": "python",
   "name": "python3"
  },
  "language_info": {
   "codemirror_mode": {
    "name": "ipython",
    "version": 3
   },
   "file_extension": ".py",
   "mimetype": "text/x-python",
   "name": "python",
   "nbconvert_exporter": "python",
   "pygments_lexer": "ipython3",
   "version": "3.10.15"
  }
 },
 "nbformat": 4,
 "nbformat_minor": 2
}
